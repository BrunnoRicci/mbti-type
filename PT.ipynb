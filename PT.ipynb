{
 "cells": [
  {
   "cell_type": "code",
   "execution_count": 1,
   "metadata": {
    "_cell_guid": "b1076dfc-b9ad-4769-8c92-a6c4dae69d19",
    "_uuid": "8f2839f25d086af736a60e9eeb907d3b93b6e0e5",
    "collapsed": false
   },
   "outputs": [
    {
     "name": "stdout",
     "output_type": "stream",
     "text": [
      "['glove.6B.100d.txt', 'glove.6B.300d.txt', '.ipynb_checkpoints', 'README.md', 'mbti_1.csv', '.git', 'PT.ipynb', 'glove.6B.200d.txt', 'glove.6B.50d.txt']\n"
     ]
    }
   ],
   "source": [
    "# This Python 3 environment comes with many helpful analytics libraries installed\n",
    "# It is defined by the kaggle/python docker image: https://github.com/kaggle/docker-python\n",
    "# For example, here's several helpful packages to load in \n",
    "\n",
    "import numpy as np # linear algebra\n",
    "import seaborn as sns\n",
    "import matplotlib.pyplot as plt\n",
    "PW = 8\n",
    "PH = 6\n",
    "plt.rcParams['figure.figsize'] = (PW, PH) \n",
    "plt.rcParams['image.cmap'] = 'gray'\n",
    "\n",
    "import re\n",
    "import pandas as pd # data processing, CSV file I/O (e.g. pd.read_csv)\n",
    "pd.options.display.max_rows = 250\n",
    "pd.options.display.max_columns = 500\n",
    "pd.options.display.max_colwidth = 500\n",
    "\n",
    "from nltk.tokenize import RegexpTokenizer\n",
    "from nltk.stem.snowball import SnowballStemmer\n",
    "import string \n",
    "import warnings\n",
    "\n",
    "# Input data files are available in the \"../input/\" directory.\n",
    "# For example, running this (by clicking run or pressing Shift+Enter) will list the files in the input directory\n",
    "\n",
    "import os\n",
    "print(os.listdir(\"./\"))\n",
    "\n",
    "# Any results you write to the current directory are saved as output."
   ]
  },
  {
   "cell_type": "code",
   "execution_count": 2,
   "metadata": {
    "collapsed": false
   },
   "outputs": [
    {
     "name": "stdout",
     "output_type": "stream",
     "text": [
      "Number of users 8675\n"
     ]
    }
   ],
   "source": [
    "df = pd.read_csv(\"./mbti_1.csv\", encoding=\"utf-8\")\n",
    "print(\"Number of users\", len(df))"
   ]
  },
  {
   "cell_type": "markdown",
   "metadata": {},
   "source": [
    "## Explore"
   ]
  },
  {
   "cell_type": "code",
   "execution_count": 3,
   "metadata": {
    "collapsed": false
   },
   "outputs": [
    {
     "data": {
      "text/html": [
       "<div>\n",
       "<style scoped>\n",
       "    .dataframe tbody tr th:only-of-type {\n",
       "        vertical-align: middle;\n",
       "    }\n",
       "\n",
       "    .dataframe tbody tr th {\n",
       "        vertical-align: top;\n",
       "    }\n",
       "\n",
       "    .dataframe thead th {\n",
       "        text-align: right;\n",
       "    }\n",
       "</style>\n",
       "<table border=\"1\" class=\"dataframe\">\n",
       "  <thead>\n",
       "    <tr style=\"text-align: right;\">\n",
       "      <th></th>\n",
       "      <th>type</th>\n",
       "      <th>posts</th>\n",
       "    </tr>\n",
       "  </thead>\n",
       "  <tbody>\n",
       "    <tr>\n",
       "      <th>0</th>\n",
       "      <td>INFJ</td>\n",
       "      <td>'http://www.youtube.com/watch?v=qsXHcwe3krw|||http://41.media.tumblr.com/tumblr_lfouy03PMA1qa1rooo1_500.jpg|||enfp and intj moments  https://www.youtube.com/watch?v=iz7lE1g4XM4  sportscenter not top ten plays  https://www.youtube.com/watch?v=uCdfze1etec  pranks|||What has been the most life-changing experience in your life?|||http://www.youtube.com/watch?v=vXZeYwwRDw8   http://www.youtube.com/watch?v=u8ejam5DP3E  On repeat for most of today.|||May the PerC Experience immerse you.|||The last ...</td>\n",
       "    </tr>\n",
       "    <tr>\n",
       "      <th>1</th>\n",
       "      <td>ENTP</td>\n",
       "      <td>'I'm finding the lack of me in these posts very alarming.|||Sex can be boring if it's in the same position often. For example me and my girlfriend are currently in an environment where we have to creatively use cowgirl and missionary. There isn't enough...|||Giving new meaning to 'Game' theory.|||Hello *ENTP Grin*  That's all it takes. Than we converse and they do most of the flirting while I acknowledge their presence and return their words with smooth wordplay and more cheeky grins.|||This...</td>\n",
       "    </tr>\n",
       "    <tr>\n",
       "      <th>2</th>\n",
       "      <td>INTP</td>\n",
       "      <td>'Good one  _____   https://www.youtube.com/watch?v=fHiGbolFFGw|||Of course, to which I say I know; that's my blessing and my curse.|||Does being absolutely positive that you and your best friend could be an amazing couple count? If so, than yes.   Or it's more I could be madly in love in case I reconciled my feelings (which at...|||No, I didn't; thank you for a link!|||So-called Ti-Si loop (and it can stem from any current topic/obsession) can be deadly. It's like when you're stuck in your o...</td>\n",
       "    </tr>\n",
       "  </tbody>\n",
       "</table>\n",
       "</div>"
      ],
      "text/plain": [
       "   type  \\\n",
       "0  INFJ   \n",
       "1  ENTP   \n",
       "2  INTP   \n",
       "\n",
       "                                                                                                                                                                                                                                                                                                                                                                                                                                                                                                                 posts  \n",
       "0  'http://www.youtube.com/watch?v=qsXHcwe3krw|||http://41.media.tumblr.com/tumblr_lfouy03PMA1qa1rooo1_500.jpg|||enfp and intj moments  https://www.youtube.com/watch?v=iz7lE1g4XM4  sportscenter not top ten plays  https://www.youtube.com/watch?v=uCdfze1etec  pranks|||What has been the most life-changing experience in your life?|||http://www.youtube.com/watch?v=vXZeYwwRDw8   http://www.youtube.com/watch?v=u8ejam5DP3E  On repeat for most of today.|||May the PerC Experience immerse you.|||The last ...  \n",
       "1  'I'm finding the lack of me in these posts very alarming.|||Sex can be boring if it's in the same position often. For example me and my girlfriend are currently in an environment where we have to creatively use cowgirl and missionary. There isn't enough...|||Giving new meaning to 'Game' theory.|||Hello *ENTP Grin*  That's all it takes. Than we converse and they do most of the flirting while I acknowledge their presence and return their words with smooth wordplay and more cheeky grins.|||This...  \n",
       "2  'Good one  _____   https://www.youtube.com/watch?v=fHiGbolFFGw|||Of course, to which I say I know; that's my blessing and my curse.|||Does being absolutely positive that you and your best friend could be an amazing couple count? If so, than yes.   Or it's more I could be madly in love in case I reconciled my feelings (which at...|||No, I didn't; thank you for a link!|||So-called Ti-Si loop (and it can stem from any current topic/obsession) can be deadly. It's like when you're stuck in your o...  "
      ]
     },
     "execution_count": 3,
     "metadata": {},
     "output_type": "execute_result"
    }
   ],
   "source": [
    "df.head(3)"
   ]
  },
  {
   "cell_type": "code",
   "execution_count": 4,
   "metadata": {
    "collapsed": false
   },
   "outputs": [
    {
     "name": "stdout",
     "output_type": "stream",
     "text": [
      "Personality types ['INFP' 'INFJ' 'INTP' 'INTJ' 'ENTP' 'ENFP' 'ISTP' 'ISFP' 'ENTJ' 'ISTJ'\n",
      " 'ENFJ' 'ISFJ' 'ESTP' 'ESFP' 'ESFJ' 'ESTJ']\n"
     ]
    }
   ],
   "source": [
    "#Personality Types\n",
    "groups = df.groupby(\"type\").count()\n",
    "groups.sort_values(\"posts\", ascending=False, inplace=True)\n",
    "print (\"Personality types\", groups.index.values)\n",
    "\n",
    "#Priors used below\n",
    "priors = groups[\"posts\"] / groups[\"posts\"].sum()"
   ]
  },
  {
   "cell_type": "code",
   "execution_count": 5,
   "metadata": {
    "collapsed": false
   },
   "outputs": [
    {
     "data": {
      "image/png": "[encoded data removed]",
      "text/plain": [
       "<matplotlib.figure.Figure at 0x7fa7f029b470>"
      ]
     },
     "metadata": {},
     "output_type": "display_data"
    }
   ],
   "source": [
    "groups[\"posts\"].plot(kind=\"bar\", title=\"Number of People per Personality type\");"
   ]
  },
  {
   "cell_type": "code",
   "execution_count": 6,
   "metadata": {
    "collapsed": false
   },
   "outputs": [
    {
     "data": {
      "image/png": "[encoded data removed]",
      "text/plain": [
       "<matplotlib.figure.Figure at 0x7fa7e513dc18>"
      ]
     },
     "metadata": {},
     "output_type": "display_data"
    }
   ],
   "source": [
    "df[\"LenPre\"] = df[\"posts\"].apply(len)\n",
    "sns.distplot(df[\"LenPre\"]).set_title(\"Distribution of Length of all 50 Posts\");"
   ]
  },
  {
   "cell_type": "code",
   "execution_count": 7,
   "metadata": {
    "collapsed": true
   },
   "outputs": [],
   "source": [
    "def preprocess_text(df, remove_special=True):\n",
    "    #Remove links \n",
    "    df[\"posts\"] = df[\"posts\"].apply(lambda x: re.sub(r'https?:\\/\\/.*?[\\s+]', '', x.replace(\"|\",\" \") + \" \"))\n",
    "    \n",
    "    #Keep EOS\n",
    "    df[\"posts\"] = df[\"posts\"].apply(lambda x: re.sub(r'\\.', ' EOSTokenDot ', x + \" \"))\n",
    "    df[\"posts\"] = df[\"posts\"].apply(lambda x: re.sub(r'\\?', ' EOSTokenQuest ', x + \" \"))\n",
    "    df[\"posts\"] = df[\"posts\"].apply(lambda x: re.sub(r'!', ' EOSTokenExs ', x + \" \"))\n",
    "    \n",
    "    #Strip Punctation\n",
    "    df[\"posts\"] = df[\"posts\"].apply(lambda x: re.sub(r'[^\\w\\s]','',x))\n",
    "\n",
    "    #Remove Non-words\n",
    "    df[\"posts\"] = df[\"posts\"].apply(lambda x: re.sub(r'[^a-zA-Z\\s]','',x))\n",
    "\n",
    "    #To lower\n",
    "    df[\"posts\"] = df[\"posts\"].apply(lambda x: x.lower())\n",
    "\n",
    "    #Remove multiple letter repating words\n",
    "    df[\"posts\"] = df[\"posts\"].apply(lambda x: re.sub(r'([a-z])\\1{2,}[\\s|\\w]*','',x)) \n",
    "\n",
    "    #Remove short/long words\n",
    "    df[\"posts\"] = df[\"posts\"].apply(lambda x: re.sub(r'(\\b\\w{0,3})?\\b','',x)) \n",
    "    df[\"posts\"] = df[\"posts\"].apply(lambda x: re.sub(r'(\\b\\w{30,1000})?\\b','',x))\n",
    "\n",
    "    #Remove Personality Types Words\n",
    "    if remove_special:\n",
    "        pers_types = ['INFP' ,'INFJ', 'INTP', 'INTJ', 'ENTP', 'ENFP', 'ISTP' ,'ISFP' ,'ENTJ', 'ISTJ','ENFJ', 'ISFJ' ,'ESTP', 'ESFP' ,'ESFJ' ,'ESTJ']\n",
    "        pers_types = [p.lower() for p in pers_types]\n",
    "        p = re.compile(\"(\" + \"|\".join(pers_types) + \")\")\n",
    "\n",
    "    df[\"posts\"] = df[\"posts\"].apply(lambda x: p.sub(' PTypeToken ',x))\n",
    "    return df\n",
    "\n",
    "def subsample(df):\n",
    "    groups = df.groupby(\"type\").count()\n",
    "    groups.sort_values(\"posts\", ascending=False, inplace=True)\n",
    "    \n",
    "    min_num = groups[\"posts\"][-1]\n",
    "    min_ind = groups.index[-1]\n",
    "    ndf = df[df[\"type\"] == min_ind]\n",
    "\n",
    "    for pt in groups.index[:-1]:\n",
    "        print(min_num,pt)\n",
    "        tdf = df[df[\"type\"] == pt].sample(min_num)\n",
    "        ndf = pd.concat([ndf, tdf])\n",
    "    return ndf"
   ]
  },
  {
   "cell_type": "markdown",
   "metadata": {},
   "source": [
    "## Split Posts"
   ]
  },
  {
   "cell_type": "code",
   "execution_count": 8,
   "metadata": {
    "collapsed": false
   },
   "outputs": [
    {
     "data": {
      "image/png": "[encoded data removed]",
      "text/plain": [
       "<matplotlib.figure.Figure at 0x7fa7e503ea20>"
      ]
     },
     "metadata": {},
     "output_type": "display_data"
    }
   ],
   "source": [
    "#Number of Posts per User\n",
    "df[\"NumPosts\"] = df[\"posts\"].apply(lambda x: len(x.split(\"|||\")))\n",
    "\n",
    "sns.distplot(df[\"NumPosts\"], kde=False).set_title(\"Number of Posts per User\");"
   ]
  },
  {
   "cell_type": "code",
   "execution_count": 9,
   "metadata": {
    "collapsed": false
   },
   "outputs": [
    {
     "name": "stdout",
     "output_type": "stream",
     "text": [
      "Number of users 8675 Number of posts 422845\n"
     ]
    }
   ],
   "source": [
    "#Split to posts\n",
    "def extract(posts, new_posts):\n",
    "    for post in posts[1].split(\"|||\"):\n",
    "        new_posts.append((posts[0], post))\n",
    "\n",
    "posts = []\n",
    "df.apply(lambda x: extract(x, posts), axis=1)\n",
    "print(\"Number of users\", len(df), \"Number of posts\", len(posts))\n",
    "\n",
    "df = pd.DataFrame(posts, columns=[\"type\", \"posts\"])"
   ]
  },
  {
   "cell_type": "code",
   "execution_count": 10,
   "metadata": {
    "collapsed": false
   },
   "outputs": [
    {
     "data": {
      "image/png": "[encoded data removed]",
      "text/plain": [
       "<matplotlib.figure.Figure at 0x7fa7e503eba8>"
      ]
     },
     "metadata": {},
     "output_type": "display_data"
    }
   ],
   "source": [
    "df[\"Len\"] = df[\"posts\"].apply(len)\n",
    "sns.distplot(df[\"Len\"]).set_title(\"Post lengths\");"
   ]
  },
  {
   "cell_type": "code",
   "execution_count": 11,
   "metadata": {
    "collapsed": false
   },
   "outputs": [],
   "source": [
    "#Preprocess Text\n",
    "df = preprocess_text(df) "
   ]
  },
  {
   "cell_type": "code",
   "execution_count": 12,
   "metadata": {
    "collapsed": false
   },
   "outputs": [
    {
     "data": {
      "image/png": "[encoded data removed]",
      "text/plain": [
       "<matplotlib.figure.Figure at 0x7fa7d5a23ba8>"
      ]
     },
     "metadata": {},
     "output_type": "display_data"
    }
   ],
   "source": [
    "df[\"Len\"] = df[\"posts\"].apply(len)\n",
    "sns.distplot(df[\"Len\"]).set_title(\"Post lengths\");"
   ]
  },
  {
   "cell_type": "code",
   "execution_count": 13,
   "metadata": {
    "collapsed": false
   },
   "outputs": [
    {
     "name": "stdout",
     "output_type": "stream",
     "text": [
      "Number of posts 422845\n",
      "Number of posts 275034\n"
     ]
    }
   ],
   "source": [
    "#Remove posts with less than X words\n",
    "min_words = 15\n",
    "print(\"Number of posts\", len(df)) \n",
    "df[\"nw\"] = df[\"posts\"].apply(lambda x: len(re.findall(r'\\w+', x)))\n",
    "df = df[df[\"nw\"] >= min_words]\n",
    "print(\"Number of posts\", len(df)) "
   ]
  },
  {
   "cell_type": "code",
   "execution_count": 14,
   "metadata": {
    "collapsed": false
   },
   "outputs": [
    {
     "data": {
      "image/png": "[encoded data removed]",
      "text/plain": [
       "<matplotlib.figure.Figure at 0x7fa7ddf67ef0>"
      ]
     },
     "metadata": {},
     "output_type": "display_data"
    }
   ],
   "source": [
    "df[\"Len\"] = df[\"posts\"].apply(len)\n",
    "sns.distplot(df[\"Len\"]).set_title(\"Post lengths\");"
   ]
  },
  {
   "cell_type": "code",
   "execution_count": 15,
   "metadata": {
    "collapsed": false
   },
   "outputs": [
    {
     "name": "stdout",
     "output_type": "stream",
     "text": [
      "Number of posts 275034\n",
      "Number of posts 273972\n"
     ]
    }
   ],
   "source": [
    "#Remove long post\n",
    "max_length = 350\n",
    "print(\"Number of posts\", len(df)) \n",
    "df = df[df[\"Len\"] < 350]\n",
    "print(\"Number of posts\", len(df)) "
   ]
  },
  {
   "cell_type": "code",
   "execution_count": 16,
   "metadata": {
    "collapsed": false
   },
   "outputs": [
    {
     "data": {
      "image/png": "[encoded data removed]",
      "text/plain": [
       "<matplotlib.figure.Figure at 0x7fa7f029b390>"
      ]
     },
     "metadata": {},
     "output_type": "display_data"
    }
   ],
   "source": [
    "df[\"Len\"] = df[\"posts\"].apply(len)\n",
    "sns.distplot(df[\"Len\"]).set_title(\"Post lengths\");"
   ]
  },
  {
   "cell_type": "code",
   "execution_count": 17,
   "metadata": {
    "collapsed": false
   },
   "outputs": [],
   "source": [
    "#Drop nw Len\n",
    "df.drop([\"nw\", \"Len\"],axis=1, inplace=True)"
   ]
  },
  {
   "cell_type": "code",
   "execution_count": 18,
   "metadata": {
    "collapsed": false
   },
   "outputs": [],
   "source": [
    "#Subsample\n",
    "#df = subsample(df)"
   ]
  },
  {
   "cell_type": "markdown",
   "metadata": {},
   "source": [
    "## Stemming"
   ]
  },
  {
   "cell_type": "code",
   "execution_count": 19,
   "metadata": {
    "collapsed": true
   },
   "outputs": [],
   "source": [
    "#Stem\n",
    "stemmer = SnowballStemmer(\"english\")\n",
    "\n",
    "df[\"posts\"] = df[\"posts\"].apply(lambda x: \" \".join(stemmer.stem(p) for p in x.split(\" \")))"
   ]
  },
  {
   "cell_type": "markdown",
   "metadata": {},
   "source": [
    "## BOW Models"
   ]
  },
  {
   "cell_type": "code",
   "execution_count": 20,
   "metadata": {
    "collapsed": false
   },
   "outputs": [],
   "source": [
    "from sklearn.feature_extraction.text import TfidfVectorizer, CountVectorizer\n",
    "from sklearn.preprocessing import LabelEncoder, RobustScaler\n",
    "from sklearn.model_selection import train_test_split\n",
    "from sklearn.naive_bayes import MultinomialNB"
   ]
  },
  {
   "cell_type": "code",
   "execution_count": 266,
   "metadata": {
    "collapsed": false
   },
   "outputs": [],
   "source": [
    "#For Naive Bayes\n",
    "vect = CountVectorizer(stop_words='english') \n",
    "#vect = TfidfVectorizer(stop_words='english')\n",
    "X =  vect.fit_transform(df[\"posts\"]) \n",
    "\n",
    "le = LabelEncoder()\n",
    "y = le.fit_transform(df[\"type\"])\n",
    "\n",
    "X_train, X_test, y_train, y_test = train_test_split(X, y, test_size=0.1, stratify=y, random_state=42)"
   ]
  },
  {
   "cell_type": "markdown",
   "metadata": {},
   "source": [
    "## Random Estimation"
   ]
  },
  {
   "cell_type": "code",
   "execution_count": 21,
   "metadata": {
    "collapsed": false
   },
   "outputs": [],
   "source": [
    "def cat_accuracy(yp_test, y_test, le):\n",
    "    ype = np.array(list(\"\".join(le.inverse_transform(yp_test))))\n",
    "    ye = np.array(list(\"\".join(le.inverse_transform(y_test))))\n",
    "    return (ype == ye).mean()\n",
    "\n",
    "def predict_random_guess(priors, lp):\n",
    "    return np.random.choice(priors.index, lp, p=priors.values)\n"
   ]
  },
  {
   "cell_type": "code",
   "execution_count": 268,
   "metadata": {
    "collapsed": false
   },
   "outputs": [
    {
     "name": "stdout",
     "output_type": "stream",
     "text": [
      "Random guessing 16 Types: 0.12991167238484563 0.0020467186813161974\n",
      "Random Guessing 4 Categories: 0.6094468574348492 0.0013451555081418073\n"
     ]
    }
   ],
   "source": [
    "num_iter = 100\n",
    "mc16 = np.zeros(num_iter)\n",
    "mc4 = np.zeros(num_iter)\n",
    "\n",
    "warnings.filterwarnings(action='ignore', category=DeprecationWarning)\n",
    "for i in range(100):\n",
    "    mc16[i] = np.mean(le.transform(predict_random_guess(priors, len(y_test))) == y_test)\n",
    "    mc4[i] = cat_accuracy(le.transform(predict_random_guess(priors, len(y_test))), y_test, le)\n",
    "\n",
    "\n",
    "print (\"Random guessing 16 Types:\", mc16.mean(), mc16.std())\n",
    "print (\"Random Guessing 4 Categories:\", mc4.mean(), mc4.std())"
   ]
  },
  {
   "cell_type": "markdown",
   "metadata": {},
   "source": [
    "## NaiveBayes"
   ]
  },
  {
   "cell_type": "code",
   "execution_count": 269,
   "metadata": {
    "collapsed": false
   },
   "outputs": [
    {
     "name": "stdout",
     "output_type": "stream",
     "text": [
      "Train accuracy: 0.3555606024966136\n",
      "Test accuracy: 0.2433754288634207\n",
      "Categorical accuracy: 0.7011734433170305\n"
     ]
    }
   ],
   "source": [
    "clf = MultinomialNB()\n",
    "clf.fit(X_train, y_train)\n",
    "\n",
    "yp_train = clf.predict(X_train)\n",
    "print(\"Train accuracy:\", np.mean(yp_train == y_train))\n",
    "\n",
    "yp_test = clf.predict(X_test)\n",
    "print(\"Test accuracy:\", np.mean(yp_test == y_test))\n",
    "\n",
    "print(\"Categorical accuracy:\", cat_accuracy(yp_test, y_test, le))"
   ]
  },
  {
   "cell_type": "markdown",
   "metadata": {},
   "source": [
    "## Word Lengths Disttribution"
   ]
  },
  {
   "cell_type": "code",
   "execution_count": 270,
   "metadata": {
    "collapsed": false
   },
   "outputs": [
    {
     "data": {
      "image/png": "[encoded data removed]",
      "text/plain": [
       "<matplotlib.figure.Figure at 0x7f19505c1710>"
      ]
     },
     "metadata": {},
     "output_type": "display_data"
    }
   ],
   "source": [
    "wdf = pd.DataFrame( vect.get_feature_names(),columns=[\"word\"])\n",
    "wdf[\"len\"] = wdf.word.apply(len)\n",
    "sns.distplot(wdf[\"len\"], kde=False);"
   ]
  },
  {
   "cell_type": "markdown",
   "metadata": {},
   "source": [
    "## Sequential Models"
   ]
  },
  {
   "cell_type": "code",
   "execution_count": 129,
   "metadata": {
    "collapsed": false
   },
   "outputs": [],
   "source": [
    "from keras.preprocessing.text import Tokenizer\n",
    "from keras.preprocessing import sequence\n",
    "from keras.models import Sequential, Model\n",
    "from keras.layers import Dense,  Dropout, Flatten\n",
    "from keras.layers import LSTM, Conv1D, Input, MaxPooling1D\n",
    "from keras.layers.embeddings import Embedding\n",
    "from sklearn.preprocessing import OneHotEncoder\n",
    "\n",
    "from scipy import spatial\n",
    "from sklearn.utils import class_weight"
   ]
  },
  {
   "cell_type": "code",
   "execution_count": 130,
   "metadata": {
    "collapsed": false
   },
   "outputs": [],
   "source": [
    "def cat_accu_seq(X_test, y_test, model):\n",
    "    yp_test = model.predict(X_test)\n",
    "\n",
    "    yp_test_d =  np.argmax(yp_test, axis=1)\n",
    "    y_test_d =  np.argmax(y_test, axis=1)\n",
    "    \n",
    "    return  cat_accuracy(yp_test_d, y_test_d, le )\n",
    "\n",
    "def calc_weights(df, le, ohe):\n",
    "    groups = df.groupby(\"type\").count()\n",
    "    groups.sort_values(\"posts\", ascending=False, inplace=True)\n",
    "    \n",
    "    p = groups[\"posts\"]#.to_dict()\n",
    "    ohe.transform([[x] for x in le.transform(p.index.values)])"
   ]
  },
  {
   "cell_type": "code",
   "execution_count": 131,
   "metadata": {
    "collapsed": false
   },
   "outputs": [],
   "source": [
    "#Prepare X and y\n",
    "X =  df.posts\n",
    "\n",
    "le = LabelEncoder()\n",
    "y = le.fit_transform(df[\"type\"])\n",
    "\n",
    "ohe = OneHotEncoder(n_values='auto',  sparse=False)\n",
    "y = ohe.fit_transform(y.reshape(-1, 1))"
   ]
  },
  {
   "cell_type": "code",
   "execution_count": 132,
   "metadata": {
    "collapsed": false,
    "scrolled": true
   },
   "outputs": [
    {
     "name": "stderr",
     "output_type": "stream",
     "text": [
      "/home/brunno/anaconda2/envs/ana41py35/lib/python3.5/site-packages/keras/preprocessing/text.py:157: UserWarning: The `nb_words` argument in `Tokenizer` has been renamed `num_words`.\n",
      "  warnings.warn('The `nb_words` argument in `Tokenizer` '\n"
     ]
    },
    {
     "name": "stdout",
     "output_type": "stream",
     "text": [
      "Found 77541 unique tokens.\n"
     ]
    }
   ],
   "source": [
    "max_nb_words = 77541#50000\n",
    "\n",
    "#Tokenize words\n",
    "tokenizer = Tokenizer(nb_words=max_nb_words)\n",
    "tokenizer.fit_on_texts(X)\n",
    "sequences = tokenizer.texts_to_sequences(X)\n",
    "\n",
    "word_index = tokenizer.word_index\n",
    "print('Found %s unique tokens.' % len(word_index))\n",
    "\n",
    "#Constants\n",
    "ptypes_num = 16\n",
    "max_post_len = np.max([ len(x) for x in sequences])"
   ]
  },
  {
   "cell_type": "code",
   "execution_count": 133,
   "metadata": {
    "collapsed": false
   },
   "outputs": [],
   "source": [
    "#Pad\n",
    "sequences = sequence.pad_sequences(sequences, maxlen=max_post_len) "
   ]
  },
  {
   "cell_type": "code",
   "execution_count": 134,
   "metadata": {
    "collapsed": false
   },
   "outputs": [],
   "source": [
    "#Split\n",
    "X_train, X_test, y_train, y_test = train_test_split(sequences, y, test_size=0.1, stratify=y, random_state=42)"
   ]
  },
  {
   "cell_type": "code",
   "execution_count": 143,
   "metadata": {
    "collapsed": false
   },
   "outputs": [],
   "source": [
    "#pd.DataFrame(y_test)[0].value_counts().plot(kind=\"bar\");"
   ]
  },
  {
   "cell_type": "code",
   "execution_count": 144,
   "metadata": {
    "collapsed": false
   },
   "outputs": [],
   "source": [
    "#temp = [np.argmax(x) for x in y_test]\n",
    "#pd.DataFrame(temp)[0].value_counts().plot(kind=\"bar\");"
   ]
  },
  {
   "cell_type": "code",
   "execution_count": 145,
   "metadata": {
    "collapsed": false
   },
   "outputs": [
    {
     "name": "stdout",
     "output_type": "stream",
     "text": [
      "_________________________________________________________________\n",
      "Layer (type)                 Output Shape              Param #   \n",
      "=================================================================\n",
      "embedding_9 (Embedding)      (None, 40, 32)            2481312   \n",
      "_________________________________________________________________\n",
      "dropout_17 (Dropout)         (None, 40, 32)            0         \n",
      "_________________________________________________________________\n",
      "lstm_9 (LSTM)                (None, 32)                8320      \n",
      "_________________________________________________________________\n",
      "dropout_18 (Dropout)         (None, 32)                0         \n",
      "_________________________________________________________________\n",
      "dense_9 (Dense)              (None, 16)                528       \n",
      "=================================================================\n",
      "Total params: 2,490,160\n",
      "Trainable params: 2,490,160\n",
      "Non-trainable params: 0\n",
      "_________________________________________________________________\n",
      "None\n"
     ]
    }
   ],
   "source": [
    "#Constants\n",
    "batch_size = 512\n",
    "epochs = 5\n",
    "embedding_vecor_length = 32\n",
    "lstm_size = 32\n",
    "\n",
    "model = Sequential()\n",
    "model.add(Embedding(max_nb_words, embedding_vecor_length, input_length=max_post_len))\n",
    "model.add(Dropout(0.25))\n",
    "\n",
    "# model.add(LSTM(lstm_size, return_sequences=True))\n",
    "#model.add(Dropout(0.25))\n",
    "\n",
    "model.add(LSTM(lstm_size))\n",
    "model.add(Dropout(0.25))\n",
    "\n",
    "model.add(Dense(ptypes_num, activation='softmax'))\n",
    "model.compile(loss='categorical_crossentropy', optimizer='adam', metrics=['accuracy'])\n",
    "print(model.summary())"
   ]
  },
  {
   "cell_type": "code",
   "execution_count": 146,
   "metadata": {
    "collapsed": false
   },
   "outputs": [],
   "source": [
    "#Class Weights\n",
    "wy = le.fit_transform(df[\"type\"])\n",
    "cw = class_weight.compute_class_weight('balanced', np.unique(wy), wy)"
   ]
  },
  {
   "cell_type": "code",
   "execution_count": 147,
   "metadata": {
    "collapsed": false
   },
   "outputs": [
    {
     "name": "stdout",
     "output_type": "stream",
     "text": [
      "Train on 246574 samples, validate on 27398 samples\n",
      "Epoch 1/5\n",
      "246574/246574 [==============================] - 76s 307us/step - loss: 2.3072 - acc: 0.2036 - val_loss: 2.2510 - val_acc: 0.2140\n",
      "Epoch 2/5\n",
      "246574/246574 [==============================] - 77s 314us/step - loss: 2.2313 - acc: 0.2244 - val_loss: 2.2165 - val_acc: 0.2324\n",
      "Epoch 3/5\n",
      "246574/246574 [==============================] - 83s 336us/step - loss: 2.1909 - acc: 0.2385 - val_loss: 2.2188 - val_acc: 0.2347\n",
      "Epoch 4/5\n",
      "246574/246574 [==============================] - 83s 337us/step - loss: 2.1564 - acc: 0.2529 - val_loss: 2.2228 - val_acc: 0.2362\n",
      "Epoch 5/5\n",
      "246574/246574 [==============================] - 76s 308us/step - loss: 2.1181 - acc: 0.2731 - val_loss: 2.2362 - val_acc: 0.2331\n",
      "Accuracy: 23.31%\n",
      "Categorical Accuracy: 0.6992846193152785\n"
     ]
    },
    {
     "name": "stderr",
     "output_type": "stream",
     "text": [
      "/home/brunno/anaconda2/envs/ana41py35/lib/python3.5/site-packages/sklearn/preprocessing/label.py:151: DeprecationWarning: The truth value of an empty array is ambiguous. Returning False, but in future this will result in an error. Use `array.size > 0` to check that an array is not empty.\n",
      "  if diff:\n",
      "/home/brunno/anaconda2/envs/ana41py35/lib/python3.5/site-packages/sklearn/preprocessing/label.py:151: DeprecationWarning: The truth value of an empty array is ambiguous. Returning False, but in future this will result in an error. Use `array.size > 0` to check that an array is not empty.\n",
      "  if diff:\n"
     ]
    }
   ],
   "source": [
    "model.fit(X_train, y_train, epochs=epochs, batch_size=batch_size, class_weight=cw, validation_data=(X_test, y_test))\n",
    "\n",
    "scores = model.evaluate(X_test, y_test, verbose=0)\n",
    "print(\"Accuracy: %.2f%%\" % (scores[1]*100))\n",
    "print(\"Categorical Accuracy:\", cat_accu_seq(X_test, y_test, model))"
   ]
  },
  {
   "cell_type": "markdown",
   "metadata": {},
   "source": [
    "## Plot Predictions"
   ]
  },
  {
   "cell_type": "code",
   "execution_count": 102,
   "metadata": {
    "collapsed": false
   },
   "outputs": [],
   "source": [
    "yp_test =  np.argmax(model.predict(X_test), axis=1)\n",
    "\n",
    "dft = pd.DataFrame(le.inverse_transform(yp_test),columns=[\"pred\"])\n",
    "dft[\"cnt\"] =  1\n",
    "dft[\"same\"] = (yp_test == np.argmax(y_test, axis=1))\n",
    "dft[\"same\"] = dft[\"same\"].astype(int)\n",
    "\n",
    "groupsn = dft.groupby(\"pred\").sum()\n",
    "groupsn.sort_values(\"cnt\", ascending=False, inplace=True)"
   ]
  },
  {
   "cell_type": "code",
   "execution_count": 96,
   "metadata": {
    "collapsed": false
   },
   "outputs": [
    {
     "data": {
      "image/png": "[encoded data removed]",
      "text/plain": [
       "<matplotlib.figure.Figure at 0x7fa7c5e03c88>"
      ]
     },
     "metadata": {},
     "output_type": "display_data"
    }
   ],
   "source": [
    "f, ax = plt.subplots(1,2,figsize=(2*PW,PH))\n",
    "groupsn[\"cnt\"].plot(kind=\"bar\", title=\"Number of People per PT - All test\", ax=ax[0]);\n",
    "groupsn[\"same\"].plot(kind=\"bar\", title=\"Number of People per Personality - Correctly Classified\", ax=ax[1]);"
   ]
  },
  {
   "cell_type": "markdown",
   "metadata": {},
   "source": [
    "## Word Embedings"
   ]
  },
  {
   "cell_type": "code",
   "execution_count": 281,
   "metadata": {
    "collapsed": false
   },
   "outputs": [
    {
     "name": "stdout",
     "output_type": "stream",
     "text": [
      "Found 400000 word vectors.\n"
     ]
    }
   ],
   "source": [
    "path_emb = 'glove.6B.50d.txt'\n",
    "EMBEDDING_DIM = 50\n",
    "\n",
    "embeddings_index = {}\n",
    "f = open(path_emb)\n",
    "for line in f:\n",
    "    values = line.split()\n",
    "    word = values[0]\n",
    "    coefs = np.asarray(values[1:], dtype='float32')\n",
    "    embeddings_index[word] = coefs\n",
    "f.close()\n",
    "\n",
    "print('Found %s word vectors.' % len(embeddings_index))"
   ]
  },
  {
   "cell_type": "code",
   "execution_count": 282,
   "metadata": {
    "collapsed": true
   },
   "outputs": [],
   "source": [
    "embedding_matrix = np.zeros((len(word_index) + 1, EMBEDDING_DIM))\n",
    "for word, i in word_index.items():\n",
    "    embedding_vector = embeddings_index.get(word)\n",
    "    if embedding_vector is not None:\n",
    "        # words not found in embedding index will be all-zeros.\n",
    "        embedding_matrix[i] = embedding_vector"
   ]
  },
  {
   "cell_type": "code",
   "execution_count": 283,
   "metadata": {
    "collapsed": true
   },
   "outputs": [],
   "source": [
    "def cos_sim(v1, v2):\n",
    "    return 1 - spatial.distance.cosine(v1, v2)\n",
    "\n",
    "def find_pair(w1,w2,w3,embeddings_index):\n",
    "    \n",
    "    v1 = embeddings_index[w1] ## \"king\"\n",
    "    v2 = embeddings_index[w2] ## \"queen\"\n",
    "    diff = v2 - v1\n",
    "    \n",
    "    v3 = embeddings_index[w3] + diff ## \"man\"\n",
    "    \n",
    "    cos_sim_min = -100\n",
    "    sim_word = \"\" \n",
    "    for word in embeddings_index.keys():\n",
    "        v4 = embeddings_index[word]\n",
    "        if cos_sim(v3, v4) > cos_sim_min:\n",
    "            cos_sim_min = cos_sim(v3, v4)\n",
    "            sim_word = word         \n",
    "    \n",
    "    return sim_word ##woman"
   ]
  },
  {
   "cell_type": "code",
   "execution_count": 284,
   "metadata": {
    "collapsed": false
   },
   "outputs": [],
   "source": [
    "#find_pair(\"up\", \"down\", \"upper\", embeddings_index)"
   ]
  },
  {
   "cell_type": "code",
   "execution_count": 285,
   "metadata": {
    "collapsed": false
   },
   "outputs": [
    {
     "name": "stdout",
     "output_type": "stream",
     "text": [
      "_________________________________________________________________\n",
      "Layer (type)                 Output Shape              Param #   \n",
      "=================================================================\n",
      "embedding_14 (Embedding)     (None, 40, 50)            3877100   \n",
      "_________________________________________________________________\n",
      "dropout_25 (Dropout)         (None, 40, 50)            0         \n",
      "_________________________________________________________________\n",
      "lstm_14 (LSTM)               (None, 32)                10624     \n",
      "_________________________________________________________________\n",
      "dropout_26 (Dropout)         (None, 32)                0         \n",
      "_________________________________________________________________\n",
      "dense_14 (Dense)             (None, 16)                528       \n",
      "=================================================================\n",
      "Total params: 3,888,252\n",
      "Trainable params: 11,152\n",
      "Non-trainable params: 3,877,100\n",
      "_________________________________________________________________\n",
      "None\n"
     ]
    }
   ],
   "source": [
    "#Constants\n",
    "batch_size = 512\n",
    "epochs = 6\n",
    "lstm_size = 32\n",
    "\n",
    "# create the model\n",
    "model = Sequential()\n",
    "model.add(Embedding(len(word_index) + 1,\n",
    "                    EMBEDDING_DIM,\n",
    "                    weights=[embedding_matrix],\n",
    "                    input_length=max_post_len,\n",
    "                    trainable=False))\n",
    "model.add(Dropout(0.1))\n",
    "\n",
    "# model.add(LSTM(lstm_size, return_sequences=True))\n",
    "# model.add(Dropout(0.25))\n",
    "\n",
    "model.add(LSTM(lstm_size))\n",
    "model.add(Dropout(0.1))\n",
    "\n",
    "model.add(Dense(ptypes_num, activation='softmax'))\n",
    "model.compile(loss='categorical_crossentropy', optimizer='adam', metrics=['accuracy'])\n",
    "print(model.summary())\n"
   ]
  },
  {
   "cell_type": "code",
   "execution_count": 286,
   "metadata": {
    "collapsed": false
   },
   "outputs": [
    {
     "name": "stdout",
     "output_type": "stream",
     "text": [
      "Train on 246574 samples, validate on 27398 samples\n",
      "Epoch 1/6\n",
      "246574/246574 [==============================] - 50s 204us/step - loss: 2.2964 - acc: 0.2019 - val_loss: 2.2514 - val_acc: 0.2191\n",
      "Epoch 2/6\n",
      "246574/246574 [==============================] - 49s 197us/step - loss: 2.2561 - acc: 0.2145 - val_loss: 2.2449 - val_acc: 0.2210\n",
      "Epoch 3/6\n",
      "246574/246574 [==============================] - 49s 198us/step - loss: 2.2492 - acc: 0.2180 - val_loss: 2.2422 - val_acc: 0.2214\n",
      "Epoch 4/6\n",
      "246574/246574 [==============================] - 49s 200us/step - loss: 2.2453 - acc: 0.2198 - val_loss: 2.2391 - val_acc: 0.2241\n",
      "Epoch 5/6\n",
      "246574/246574 [==============================] - 50s 201us/step - loss: 2.2426 - acc: 0.2206 - val_loss: 2.2357 - val_acc: 0.2247\n",
      "Epoch 6/6\n",
      "246574/246574 [==============================] - 50s 201us/step - loss: 2.2397 - acc: 0.2229 - val_loss: 2.2341 - val_acc: 0.2253\n",
      "Accuracy: 22.53%\n",
      "Categorical Accuracy: 0.7044492298707935\n"
     ]
    }
   ],
   "source": [
    "model.fit(X_train, y_train, epochs=epochs, batch_size=batch_size, validation_data=(X_test, y_test))\n",
    "\n",
    "scores = model.evaluate(X_test, y_test, verbose=0)\n",
    "print(\"Accuracy: %.2f%%\" % (scores[1]*100))\n",
    "print(\"Categorical Accuracy:\", cat_accu_seq(X_test, y_test, model))"
   ]
  }
 ],
 "metadata": {
  "anaconda-cloud": {},
  "kernelspec": {
   "display_name": "Python [conda env:ana41py35]",
   "language": "python",
   "name": "conda-env-ana41py35-py"
  },
  "language_info": {
   "codemirror_mode": {
    "name": "ipython",
    "version": 3
   },
   "file_extension": ".py",
   "mimetype": "text/x-python",
   "name": "python",
   "nbconvert_exporter": "python",
   "pygments_lexer": "ipython3",
   "version": "3.5.4"
  }
 },
 "nbformat": 4,
 "nbformat_minor": 1
}
