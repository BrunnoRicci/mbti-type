{
 "cells": [
  {
   "cell_type": "code",
   "execution_count": 1,
   "metadata": {
    "_cell_guid": "b1076dfc-b9ad-4769-8c92-a6c4dae69d19",
    "_uuid": "8f2839f25d086af736a60e9eeb907d3b93b6e0e5",
    "collapsed": false
   },
   "outputs": [
    {
     "name": "stdout",
     "output_type": "stream",
     "text": [
      "['.ipynb_checkpoints', 'mbti_1.csv', 'PT.ipynb']\n"
     ]
    }
   ],
   "source": [
    "# This Python 3 environment comes with many helpful analytics libraries installed\n",
    "# It is defined by the kaggle/python docker image: https://github.com/kaggle/docker-python\n",
    "# For example, here's several helpful packages to load in \n",
    "\n",
    "import numpy as np # linear algebra\n",
    "import seaborn as sns\n",
    "import matplotlib.pyplot as plt\n",
    "PW = 8\n",
    "PH = 6\n",
    "plt.rcParams['figure.figsize'] = (PW, PH) \n",
    "plt.rcParams['image.cmap'] = 'gray'\n",
    "\n",
    "import re\n",
    "import pandas as pd # data processing, CSV file I/O (e.g. pd.read_csv)\n",
    "pd.options.display.max_rows = 250\n",
    "pd.options.display.max_columns = 500\n",
    "pd.options.display.max_colwidth = 500\n",
    "\n",
    "from nltk.tokenize import RegexpTokenizer\n",
    "import string \n",
    "\n",
    "# Input data files are available in the \"../input/\" directory.\n",
    "# For example, running this (by clicking run or pressing Shift+Enter) will list the files in the input directory\n",
    "\n",
    "import os\n",
    "print(os.listdir(\"./\"))\n",
    "\n",
    "# Any results you write to the current directory are saved as output."
   ]
  },
  {
   "cell_type": "code",
   "execution_count": 2,
   "metadata": {
    "_cell_guid": "79c7e3d0-c299-4dcb-8224-4455121ee9b0",
    "_uuid": "d629ff2d2480ee46fbb7e2d37f6b5fab8052498a",
    "collapsed": false
   },
   "outputs": [
    {
     "name": "stdout",
     "output_type": "stream",
     "text": [
      "Number of users 8675\n"
     ]
    }
   ],
   "source": [
    "df = pd.read_csv(\"./mbti_1.csv\", encoding=\"utf-8\")\n",
    "print(\"Number of users\", len(df))"
   ]
  },
  {
   "cell_type": "markdown",
   "metadata": {},
   "source": [
    "## Split Posts"
   ]
  },
  {
   "cell_type": "code",
   "execution_count": 3,
   "metadata": {
    "collapsed": false
   },
   "outputs": [
    {
     "data": {
      "image/png": "[encoded data removed]",
      "text/plain": [
       "<matplotlib.figure.Figure at 0x7f33f3f4f048>"
      ]
     },
     "metadata": {},
     "output_type": "display_data"
    }
   ],
   "source": [
    "#Number of Posts per User\n",
    "df[\"NumPosts\"] = df[\"posts\"].apply(lambda x: len(x.split(\"|||\")))\n",
    "sns.distplot(df[\"NumPosts\"], kde=False).set_title(\"Number of Posts per User\");"
   ]
  },
  {
   "cell_type": "code",
   "execution_count": 4,
   "metadata": {
    "collapsed": false
   },
   "outputs": [],
   "source": [
    "# #Split to posts\n",
    "# def extract(posts, new_posts):\n",
    "#     for post in posts[1].split(\"|||\"):\n",
    "#         new_posts.append((posts[0], post))\n",
    "\n",
    "# posts = []\n",
    "# df.apply(lambda x: extract(x, posts), axis=1)\n",
    "# print(\"Number of users\", len(df), \"Number of posts\", len(tors))\n",
    "\n",
    "# df = pd.DataFrame(posts, columns=[\"type\", \"posts\"])"
   ]
  },
  {
   "cell_type": "markdown",
   "metadata": {},
   "source": [
    "## Explore"
   ]
  },
  {
   "cell_type": "code",
   "execution_count": 5,
   "metadata": {
    "collapsed": false
   },
   "outputs": [
    {
     "data": {
      "text/html": [
       "<div>\n",
       "<style scoped>\n",
       "    .dataframe tbody tr th:only-of-type {\n",
       "        vertical-align: middle;\n",
       "    }\n",
       "\n",
       "    .dataframe tbody tr th {\n",
       "        vertical-align: top;\n",
       "    }\n",
       "\n",
       "    .dataframe thead th {\n",
       "        text-align: right;\n",
       "    }\n",
       "</style>\n",
       "<table border=\"1\" class=\"dataframe\">\n",
       "  <thead>\n",
       "    <tr style=\"text-align: right;\">\n",
       "      <th></th>\n",
       "      <th>type</th>\n",
       "      <th>posts</th>\n",
       "      <th>NumPosts</th>\n",
       "    </tr>\n",
       "  </thead>\n",
       "  <tbody>\n",
       "    <tr>\n",
       "      <th>0</th>\n",
       "      <td>INFJ</td>\n",
       "      <td>'http://www.youtube.com/watch?v=qsXHcwe3krw|||http://41.media.tumblr.com/tumblr_lfouy03PMA1qa1rooo1_500.jpg|||enfp and intj moments  https://www.youtube.com/watch?v=iz7lE1g4XM4  sportscenter not top ten plays  https://www.youtube.com/watch?v=uCdfze1etec  pranks|||What has been the most life-changing experience in your life?|||http://www.youtube.com/watch?v=vXZeYwwRDw8   http://www.youtube.com/watch?v=u8ejam5DP3E  On repeat for most of today.|||May the PerC Experience immerse you.|||The last ...</td>\n",
       "      <td>50</td>\n",
       "    </tr>\n",
       "    <tr>\n",
       "      <th>1</th>\n",
       "      <td>ENTP</td>\n",
       "      <td>'I'm finding the lack of me in these posts very alarming.|||Sex can be boring if it's in the same position often. For example me and my girlfriend are currently in an environment where we have to creatively use cowgirl and missionary. There isn't enough...|||Giving new meaning to 'Game' theory.|||Hello *ENTP Grin*  That's all it takes. Than we converse and they do most of the flirting while I acknowledge their presence and return their words with smooth wordplay and more cheeky grins.|||This...</td>\n",
       "      <td>50</td>\n",
       "    </tr>\n",
       "    <tr>\n",
       "      <th>2</th>\n",
       "      <td>INTP</td>\n",
       "      <td>'Good one  _____   https://www.youtube.com/watch?v=fHiGbolFFGw|||Of course, to which I say I know; that's my blessing and my curse.|||Does being absolutely positive that you and your best friend could be an amazing couple count? If so, than yes.   Or it's more I could be madly in love in case I reconciled my feelings (which at...|||No, I didn't; thank you for a link!|||So-called Ti-Si loop (and it can stem from any current topic/obsession) can be deadly. It's like when you're stuck in your o...</td>\n",
       "      <td>50</td>\n",
       "    </tr>\n",
       "  </tbody>\n",
       "</table>\n",
       "</div>"
      ],
      "text/plain": [
       "   type  \\\n",
       "0  INFJ   \n",
       "1  ENTP   \n",
       "2  INTP   \n",
       "\n",
       "                                                                                                                                                                                                                                                                                                                                                                                                                                                                                                                 posts  \\\n",
       "0  'http://www.youtube.com/watch?v=qsXHcwe3krw|||http://41.media.tumblr.com/tumblr_lfouy03PMA1qa1rooo1_500.jpg|||enfp and intj moments  https://www.youtube.com/watch?v=iz7lE1g4XM4  sportscenter not top ten plays  https://www.youtube.com/watch?v=uCdfze1etec  pranks|||What has been the most life-changing experience in your life?|||http://www.youtube.com/watch?v=vXZeYwwRDw8   http://www.youtube.com/watch?v=u8ejam5DP3E  On repeat for most of today.|||May the PerC Experience immerse you.|||The last ...   \n",
       "1  'I'm finding the lack of me in these posts very alarming.|||Sex can be boring if it's in the same position often. For example me and my girlfriend are currently in an environment where we have to creatively use cowgirl and missionary. There isn't enough...|||Giving new meaning to 'Game' theory.|||Hello *ENTP Grin*  That's all it takes. Than we converse and they do most of the flirting while I acknowledge their presence and return their words with smooth wordplay and more cheeky grins.|||This...   \n",
       "2  'Good one  _____   https://www.youtube.com/watch?v=fHiGbolFFGw|||Of course, to which I say I know; that's my blessing and my curse.|||Does being absolutely positive that you and your best friend could be an amazing couple count? If so, than yes.   Or it's more I could be madly in love in case I reconciled my feelings (which at...|||No, I didn't; thank you for a link!|||So-called Ti-Si loop (and it can stem from any current topic/obsession) can be deadly. It's like when you're stuck in your o...   \n",
       "\n",
       "   NumPosts  \n",
       "0        50  \n",
       "1        50  \n",
       "2        50  "
      ]
     },
     "execution_count": 5,
     "metadata": {},
     "output_type": "execute_result"
    }
   ],
   "source": [
    "df.head(3)"
   ]
  },
  {
   "cell_type": "code",
   "execution_count": 6,
   "metadata": {
    "collapsed": false
   },
   "outputs": [
    {
     "name": "stdout",
     "output_type": "stream",
     "text": [
      "Personality types ['INFP' 'INFJ' 'INTP' 'INTJ' 'ENTP' 'ENFP' 'ISTP' 'ISFP' 'ENTJ' 'ISTJ'\n",
      " 'ENFJ' 'ISFJ' 'ESTP' 'ESFP' 'ESFJ' 'ESTJ']\n"
     ]
    }
   ],
   "source": [
    "#Personality Types\n",
    "groups = df.groupby(\"type\").count()\n",
    "groups.sort_values(\"posts\", ascending=False, inplace=True)\n",
    "print (\"Personality types\", groups.index.values)\n",
    "#Priors\n",
    "priors = groups[\"posts\"] / groups[\"posts\"].sum()"
   ]
  },
  {
   "cell_type": "code",
   "execution_count": 7,
   "metadata": {
    "collapsed": false
   },
   "outputs": [
    {
     "data": {
      "image/png": "[encoded data removed]",
      "text/plain": [
       "<matplotlib.figure.Figure at 0x7f33f3f3cf60>"
      ]
     },
     "metadata": {},
     "output_type": "display_data"
    }
   ],
   "source": [
    "groups[\"posts\"].plot(kind=\"bar\", title=\"Number of People per Personality type\");"
   ]
  },
  {
   "cell_type": "code",
   "execution_count": 8,
   "metadata": {
    "collapsed": false
   },
   "outputs": [
    {
     "data": {
      "image/png": "[encoded data removed]",
      "text/plain": [
       "<matplotlib.figure.Figure at 0x7f33ecd49710>"
      ]
     },
     "metadata": {},
     "output_type": "display_data"
    }
   ],
   "source": [
    "df[\"LenPre\"] = df[\"posts\"].apply(len)\n",
    "sns.distplot(df[\"LenPre\"]).set_title(\"Distribution of Length of all 50 Posts\");"
   ]
  },
  {
   "cell_type": "code",
   "execution_count": 39,
   "metadata": {
    "collapsed": true
   },
   "outputs": [],
   "source": [
    "#Read Again\n",
    "df = pd.read_csv(\"./mbti_1.csv\", encoding=\"utf-8\")\n",
    "df[\"LenPre\"] = df[\"posts\"].apply(len)"
   ]
  },
  {
   "cell_type": "markdown",
   "metadata": {},
   "source": [
    "## Link Removal"
   ]
  },
  {
   "cell_type": "code",
   "execution_count": 40,
   "metadata": {
    "_uuid": "d2c4ad09f52a7c4034e1dc362fa5bff350f77ad4",
    "collapsed": false
   },
   "outputs": [
    {
     "name": "stdout",
     "output_type": "stream",
     "text": [
      "Number of posts containing 'http'  8\n"
     ]
    }
   ],
   "source": [
    "#Remove links \n",
    "df[\"postsM\"] = df[\"posts\"].apply(lambda x: re.sub(r'https?:\\/\\/.*?[\\s+]', '', x.replace(\"|\",\" \") + \" \"))\n",
    "\n",
    "#Check remaining posts for 'http'\n",
    "df_http = df[df[\"postsM\"].apply(lambda x: \"http\" in x)]\n",
    "print(\"Number of posts containing 'http' \",len(df_http))"
   ]
  },
  {
   "cell_type": "code",
   "execution_count": 41,
   "metadata": {
    "collapsed": false
   },
   "outputs": [
    {
     "data": {
      "image/png": "[encoded data removed]",
      "text/plain": [
       "<matplotlib.figure.Figure at 0x7f33ebdfffd0>"
      ]
     },
     "metadata": {},
     "output_type": "display_data"
    }
   ],
   "source": [
    "#Plot length reduction\n",
    "df[\"LenPre\"] = df[\"posts\"].apply(len)\n",
    "df[\"LenPost\"] = df[\"postsM\"].apply(len)\n",
    "\n",
    "sns.regplot(\"LenPre\", \"LenPost\", df, fit_reg=False);"
   ]
  },
  {
   "cell_type": "code",
   "execution_count": 42,
   "metadata": {
    "collapsed": false
   },
   "outputs": [],
   "source": [
    "# #Check Higly Reduced\n",
    "# df[\"PercRem\"] = df[\"LenPost\"] * 1.0 / df[\"LenPre\"]\n",
    "# df[df[\"PercRem\"] < 0.2].head(3)"
   ]
  },
  {
   "cell_type": "code",
   "execution_count": 43,
   "metadata": {
    "collapsed": false
   },
   "outputs": [],
   "source": [
    "#Clean Up\n",
    "df[\"posts\"] = df[\"postsM\"]\n",
    "df[\"LenPre\"] = df[\"LenPost\"]\n",
    "df.drop([\"postsM\", \"LenPost\"], axis=1, inplace=True)"
   ]
  },
  {
   "cell_type": "markdown",
   "metadata": {},
   "source": [
    "## Extract Words"
   ]
  },
  {
   "cell_type": "code",
   "execution_count": 47,
   "metadata": {
    "collapsed": false
   },
   "outputs": [
    {
     "data": {
      "text/html": [
       "<div>\n",
       "<style scoped>\n",
       "    .dataframe tbody tr th:only-of-type {\n",
       "        vertical-align: middle;\n",
       "    }\n",
       "\n",
       "    .dataframe tbody tr th {\n",
       "        vertical-align: top;\n",
       "    }\n",
       "\n",
       "    .dataframe thead th {\n",
       "        text-align: right;\n",
       "    }\n",
       "</style>\n",
       "<table border=\"1\" class=\"dataframe\">\n",
       "  <thead>\n",
       "    <tr style=\"text-align: right;\">\n",
       "      <th></th>\n",
       "      <th>type</th>\n",
       "      <th>posts</th>\n",
       "      <th>LenPre</th>\n",
       "    </tr>\n",
       "  </thead>\n",
       "  <tbody>\n",
       "    <tr>\n",
       "      <th>0</th>\n",
       "      <td>INFJ</td>\n",
       "      <td>moments   sportscenter    plays   pranks   what  been  most lifechanging experience  your life       repeat  most  today     perc experience immerse     last thing   friend posted   facebook before committing suicide  next  rest  peace     hello  sorry  hear  your distress  only natural   relationship    perfection   time  every moment  existence   figure  hard times  times  growth            welcome  stuff    game  match   prozac wellbrutin  least thirty minutes  moving your legs   d...</td>\n",
       "      <td>3401</td>\n",
       "    </tr>\n",
       "    <tr>\n",
       "      <th>1</th>\n",
       "      <td>ENTP</td>\n",
       "      <td>finding  lack    these posts very alarming      boring     same position often  example    girlfriend  currently   environment where  have  creatively  cowgirl  missionary there isnt enough   giving  meaning  game theory   hello  grin  thats   takes than  converse  they  most   flirting while  acknowledge their presence  return their words with smooth wordplay  more cheeky grins   this  lack  balance  hand  coordination   real  test  score  internet  tests  funny  score   higher   like  for...</td>\n",
       "      <td>6451</td>\n",
       "    </tr>\n",
       "    <tr>\n",
       "      <th>2</th>\n",
       "      <td>INTP</td>\n",
       "      <td>good         course  which    know thats  blessing   curse   does being absolutely positive that   your best friend could   amazing couple count   than      more  could  madly  love  case  reconciled  feelings which      didnt thank    link   socalled tisi loop    stem from  current topicobsession   deadly  like when youre stuck  your  thoughts  your mind just wanders  circles feels truly terrible    have  noticed  peculiar vegetation     have    look down   grass dozens  different plant spe...</td>\n",
       "      <td>5060</td>\n",
       "    </tr>\n",
       "    <tr>\n",
       "      <th>3</th>\n",
       "      <td>INTJ</td>\n",
       "      <td>dear     enjoyed  conversation  other   esoteric gabbing about  nature   universe   idea that every rule  social code being arbitrary constructs created   dear     long time    sincerely alpha   none  them  other types hurt  deep existential ways that  want  part    probably  sliding scale that depends  individual preferences like everything  humanity   draco malfoy also    either       either    though  which stacking     somewhat arbitrary distinction  make   believe that  core indicates p...</td>\n",
       "      <td>6184</td>\n",
       "    </tr>\n",
       "    <tr>\n",
       "      <th>4</th>\n",
       "      <td>ENTJ</td>\n",
       "      <td>youre fired   thats another silly misconception that approaching  logically  going      unlocking whatever    think   entitled    nobody wants   approached with     guys  really wants     superduperlongass vacation cmon guys  boss just doesnt listen     even approached  logically  everything   never mind just   permanent vacation    months  wouldnt  crazy about  idea    really  best employee then thats what   cooking   wants their most reliable asset gone  that long   employer      like  vie...</td>\n",
       "      <td>5727</td>\n",
       "    </tr>\n",
       "    <tr>\n",
       "      <th>5</th>\n",
       "      <td>INTJ</td>\n",
       "      <td>science    perfect  scientist claims that    that scientific  information will   revised   discover  things  rational  thinking  been very useful   society    edgar allen        your siggy   people   obvious    quick       agree that           compare   haku definite    flat through most  naruto   dont   lets  this party started          disproved   merely said that  found such methods disturbing although  does bring  certain questions    control   universe   governments   world   surpri...</td>\n",
       "      <td>8515</td>\n",
       "    </tr>\n",
       "    <tr>\n",
       "      <th>6</th>\n",
       "      <td>INFJ</td>\n",
       "      <td>cant draw    nails haha those were done  professionals   nails   those      mean those  posted were done  yourself  your  nails awesome   probably  electronic screen syndrome with  advent  technology  social media   suffer from overstimulation   daily basis  guilty  well   past    happy just    love nail arts  these  some  mine         this   first time  hearing this  about menstruation  church thanks  sharing  yeah  crazy  thought only taoists have such  belief   dear very  person   tryin...</td>\n",
       "      <td>7759</td>\n",
       "    </tr>\n",
       "    <tr>\n",
       "      <th>7</th>\n",
       "      <td>INTJ</td>\n",
       "      <td>tend  build   collection  things   desktop that   frequently  then move them into  folder called  everything from there   sorted into type   type      collect  objects even  worka   people would call  junk   like  collect    unused software  take that  your hands   have  bunch   adobe    think  quite normal  tend  only   friends  real life every couple  months  said earlier some people just dont     good ones    edit  mostly mean tolerate    where    when  sleep  dreaming another form  bein...</td>\n",
       "      <td>6857</td>\n",
       "    </tr>\n",
       "    <tr>\n",
       "      <th>8</th>\n",
       "      <td>INFJ</td>\n",
       "      <td>sure thats  good question  distinction between     dependant  perception  quote robb flynn  hate  feel  nothing more than love  feel   this    good question  tough    sure   loved winona ryder  lydia  beetlejuice         been lonely  much   time   while   been working  changing   think     trying  find  positive  everything  matter  bleak  might seem     hope   look back  this current stretch  time  think thank    there anymore  things   much better what  asskickin  taking   help   voice  ...</td>\n",
       "      <td>4267</td>\n",
       "    </tr>\n",
       "    <tr>\n",
       "      <th>9</th>\n",
       "      <td>INTP</td>\n",
       "      <td>this position where  have  actually     person    various reasons unfortunately  having trouble mustering enough strength  actually pull through  sometimes   what  year  what  year     just utterly bewildered with    this point    laundry  long    clothes left  wear  fine   then  time comes that       left  contend with  mountain that   laundry pile  sent from  apollo     going back   office    hours back  being dumbstruck  confused  your presence back  being   edge    time back  feeling...</td>\n",
       "      <td>7272</td>\n",
       "    </tr>\n",
       "    <tr>\n",
       "      <th>10</th>\n",
       "      <td>INFJ</td>\n",
       "      <td>time  parents were fighting over  dads affair    pushed    fall broke  finger  shes pointed      made     knees     life shes    gonna talk about what  piece  shit        alcoholic    some kind  serious mental problem when  comes  complying with     words laws dont apply   omgat  womens center  lived     catholic charity   bully program manager took  upon herself  change policy  that tenants were forced  attend  christmas party     dont work   have  calling    committed   with  vacation   d...</td>\n",
       "      <td>8338</td>\n",
       "    </tr>\n",
       "    <tr>\n",
       "      <th>11</th>\n",
       "      <td>ENFJ</td>\n",
       "      <td>went through  break  some months   were together   years    planned  life around that relationship  wasnt   breaking  relationship   might imagine       puns  many puns   well  personally dont  that much  attractiveness  general      have  will  change that  thats good already      want   with them   merely sexual   sorry      really into postrock     post   going  leave this here  sneak      welcome   wrong thread    that doesnt sound very   think   never  cold towards  romantic inte...</td>\n",
       "      <td>4593</td>\n",
       "    </tr>\n",
       "    <tr>\n",
       "      <th>12</th>\n",
       "      <td>INFJ</td>\n",
       "      <td>santagato              sure   type     know youre    heavy  doesnt make  want  violently bang your head against  wall    know youre     dont naturally  helplessly just feel compassion    yeah according   book shes  ixtp  could relate   movie character   coming into  world where    prominent  becoming incredibly self conscious feeling like  weakest   tris   most  shailene woodleys characters  infx four   macklemore lookalike   christina  esxp kate winslets character     never read  books  th...</td>\n",
       "      <td>7008</td>\n",
       "    </tr>\n",
       "    <tr>\n",
       "      <th>13</th>\n",
       "      <td>INTJ</td>\n",
       "      <td>fair enough  thats   want  look   like  stated before they were incredibly naive  their comments however they think those  things that would help  because those      myself mbti serves   source  self reflection   opportunity  better myself therefore when  opportunity  gain insight  what  things that    able  improve upon     think this article    more helpful   views    people share  thing they think would make   they know lifes easier    would probably help     negative     very least  good...</td>\n",
       "      <td>9036</td>\n",
       "    </tr>\n",
       "    <tr>\n",
       "      <th>14</th>\n",
       "      <td>INTP</td>\n",
       "      <td>basically this       cheezburgr     very fond       certainly   expect    thread about  hats  here haha   streets  rage   sega    think incorrectly   senior year  high school  found      rapist     college applications  sister  insane  started doing awful  school because  high anxiety  depression because     believe that richard  probably ruling  country somewhere  developing  cure   diseases  existence     much procrastination  started  paper that   multiple months     that        finished ...</td>\n",
       "      <td>5207</td>\n",
       "    </tr>\n",
       "    <tr>\n",
       "      <th>15</th>\n",
       "      <td>INTP</td>\n",
       "      <td>your comment screams   especially  useless part   thanks   information doesnt interfere with anything  ever experienced with s plus your signature   lyrics from    favorite bands tool  that song reflection    arent s  kingsqueens  saying things without thinkingwithout wanting  think  offense  guys   fucking magnificent     dangerous  these scary words  such     dangerous  already knew   unhealthy before  entered perc perc cant make  more unhealthy    what  fuck  that  your signature some obs...</td>\n",
       "      <td>7192</td>\n",
       "    </tr>\n",
       "    <tr>\n",
       "      <th>16</th>\n",
       "      <td>INFJ</td>\n",
       "      <td>some  these both excite  calm   butts  bodies  brains  community gardens  camping  camping with dogs  hiking with dogs  chillin with animals    would hope that   engages  s baiting  christianity    that will  nowhere    hope    being misunderstood cause  effect  what gives   life  then  individual  apply whatever cosmic ontology religion mythology philosophy  their    thanks  helping  with   coherence  cough     some reason      mind that cosmology meant  originstory   just  scientific   wha...</td>\n",
       "      <td>8117</td>\n",
       "    </tr>\n",
       "    <tr>\n",
       "      <th>17</th>\n",
       "      <td>INFP</td>\n",
       "      <td>think   agree  personally dont consider myself alpha beta  foxtrot     joke people  people  both agree that having emotions isnt  same  being weak whiny   literature  suggest everyday   charlotte joko beck   solid introduction into mindfulness meditation what  means    chan buddhism isnt exactly  same      being emotional doesnt automatically make someone  alpha every single human being regardless     type  emotional   feel things intensely  emotions need   kept      chan buddhist    daily ...</td>\n",
       "      <td>9490</td>\n",
       "    </tr>\n",
       "    <tr>\n",
       "      <th>18</th>\n",
       "      <td>INFJ</td>\n",
       "      <td>fully believe   power  being  protector  give  voice   voiceless   that spirit  present this film  hope   recieved   spirit  compassion   mani padme        quite right  many times this help   come from outside  relationship  partner   supportive  helpful   think getting  right help  critical  finding  good     doesnt feel worthy  being loved nothing     will make  difference   bossy   think jawz  very much   something here  further  think this  indicative  much deeper issues that were aroun...</td>\n",
       "      <td>8851</td>\n",
       "    </tr>\n",
       "    <tr>\n",
       "      <th>19</th>\n",
       "      <td>INFP</td>\n",
       "      <td>thats normal  happens also       high mood    like   depressed like   satisfied  relaxed    real type  mine       they     sheeps clothing  that     nobody will obey   till  dont give them  chance  obey  without consciously knowing they  obeying      society feels  compulsion  shield itself  dissociate itself from  what falls   point distant enough from  norm  synonym  average  that  what  much uglier  what     thoroughly  person mission  life  deep understanding  sheer truth   thoroughly  p...</td>\n",
       "      <td>7061</td>\n",
       "    </tr>\n",
       "    <tr>\n",
       "      <th>20</th>\n",
       "      <td>INTP</td>\n",
       "      <td>steve jobs  recognized   striving  efficiency  practicality  genius    systemization  inventions less  than  invention this  where claims     come from   pencil    type  emotion type  what drove emotion   obvious troll    either    there            behavior with  cognition  cognition describes   thought process which   prone  develop certain behaviors   every edgy   their mother acts  their  days  very idea  borrowing types  progressively chameleoning screams    specifically  that order    c...</td>\n",
       "      <td>6678</td>\n",
       "    </tr>\n",
       "    <tr>\n",
       "      <th>21</th>\n",
       "      <td>INFJ</td>\n",
       "      <td>very annoying   misinterpreted especially with regards  your core  your intentions  desires like when people keep saying that youre  love with somebody  whom  only    xnoble naturesx      betweenxnietzsche ecce homo       leaves  house  bright festive clothes needs only   drop   splashed from under  wheel  people    what should   when  walk down  streets  certain strangers  stare   shamelessly  these same people wear tshirts with death  threats  later  tell about       what should   when  ...</td>\n",
       "      <td>6563</td>\n",
       "    </tr>\n",
       "    <tr>\n",
       "      <th>22</th>\n",
       "      <td>ENTJ</td>\n",
       "      <td>interested   lazy   research  because  timeconsuming    welcome   club mate     that profile picture  yours</td>\n",
       "      <td>6904</td>\n",
       "    </tr>\n",
       "    <tr>\n",
       "      <th>23</th>\n",
       "      <td>INFP</td>\n",
       "      <td>sorry  couldnt resist      s please collectively marry    when    interested    will know   s   favorite  this reason    seems  have  similar vibe  this girl  cant tell  shes    actually  seems  like lists  talking ideas  loud  much     user   claims         look  those eyes  think dogs   excellent spirit animals    repost damn   puppythesmalldogbreedsjpg   look  those eyes  think dogs   excellent spirit animals     what  your spirit animal       almost seems like more people like s than s...</td>\n",
       "      <td>3770</td>\n",
       "    </tr>\n",
       "    <tr>\n",
       "      <th>24</th>\n",
       "      <td>ENTJ</td>\n",
       "      <td>still going strong  just over   year mark  have made noticeable changes    plan  slowing  have attached   year progress picture  with  face cropped   know    congrats fellow    thats funny  like   there   some truth   haha    dont follow trends necessarily although       unless   making   clothing   like  look nice  matter what  situation though   summer just hanging      someone  throws such sweeping generalizations around  have  hard time thinking youre  weak  possibly  just your general l...</td>\n",
       "      <td>6194</td>\n",
       "    </tr>\n",
       "    <tr>\n",
       "      <th>25</th>\n",
       "      <td>INFP</td>\n",
       "      <td>personally   thinking this would  more    type    ways     having some issues  while back finding    couldnt      arts  crafts store which   ideal       interview before    given  call back   always   personally  dont want astrology numerology   that garbage   true because   research    personality   hate    makes  look like  have  good future  what    would love  develop more      spiritual intelligence emotionally somewhat smart  intellectually stupid       youre kinda  theatre version   a...</td>\n",
       "      <td>6285</td>\n",
       "    </tr>\n",
       "    <tr>\n",
       "      <th>26</th>\n",
       "      <td>ENFP</td>\n",
       "      <td>doesnt want     trip without    staying behind wouldnt   option    think  really does believe that    being unreasonable  still continues   that    still completely     amazed that  doesnt think twice about leaving   them   that will make them feel  said  wants  tell them that   willing  work extra    thanks everyone  struggling with being selfish   just going ahead  working     rest  dont want  husband  feel unloved  like  dont care about  feelingsbut    husband works  extra  each year    ...</td>\n",
       "      <td>9547</td>\n",
       "    </tr>\n",
       "    <tr>\n",
       "      <th>27</th>\n",
       "      <td>ISFP</td>\n",
       "      <td>they paint without numbers    guess       best    very funny entertaining    softy    draining yapping away  everything  often     conversation with      would   good      used  smoke weed alot everyday from morning till night   years  screwed  head  even when  stopped smoking   good  call   head    went  docs then  passed onto   jimi hendrix   wind cries mary  after   jacks   their boxes   clowns have  gone      hear happiness staggering  down  street   favorite line    gardeninglandscape d...</td>\n",
       "      <td>5040</td>\n",
       "    </tr>\n",
       "    <tr>\n",
       "      <th>28</th>\n",
       "      <td>INFP</td>\n",
       "      <td>basically  main questions   what   believe   what   values that matter  most    sorry   tend   confusing     this   second thread today   feel like this  important well every time   something    scared which  normal right  however  individually react differently     well personally  dont  myself asking something like  girl      lets  compatible     know what  mean   seriously  think  just depends       well seems   like        very caring  sensitive  dont like authority    motivated  money  ...</td>\n",
       "      <td>8108</td>\n",
       "    </tr>\n",
       "    <tr>\n",
       "      <th>29</th>\n",
       "      <td>INFJ</td>\n",
       "      <td>think that that  absolutely  true  s   shamefully have much potential  that department  gonna    guilty  some unwarranted door slams  maybe   seem cruel       people here seem    themselves that  they door slam someone there  always  justifiable reason however   honest  myself  would have   that that   always     stability  constancy  very important   partner    right  that  very well   testing     this  real people make    empty promises   heat     this question  interesting   because  hav...</td>\n",
       "      <td>8738</td>\n",
       "    </tr>\n",
       "  </tbody>\n",
       "</table>\n",
       "</div>"
      ],
      "text/plain": [
       "    type  \\\n",
       "0   INFJ   \n",
       "1   ENTP   \n",
       "2   INTP   \n",
       "3   INTJ   \n",
       "4   ENTJ   \n",
       "5   INTJ   \n",
       "6   INFJ   \n",
       "7   INTJ   \n",
       "8   INFJ   \n",
       "9   INTP   \n",
       "10  INFJ   \n",
       "11  ENFJ   \n",
       "12  INFJ   \n",
       "13  INTJ   \n",
       "14  INTP   \n",
       "15  INTP   \n",
       "16  INFJ   \n",
       "17  INFP   \n",
       "18  INFJ   \n",
       "19  INFP   \n",
       "20  INTP   \n",
       "21  INFJ   \n",
       "22  ENTJ   \n",
       "23  INFP   \n",
       "24  ENTJ   \n",
       "25  INFP   \n",
       "26  ENFP   \n",
       "27  ISFP   \n",
       "28  INFP   \n",
       "29  INFJ   \n",
       "\n",
       "                                                                                                                                                                                                                                                                                                                                                                                                                                                                                                                  posts  \\\n",
       "0          moments   sportscenter    plays   pranks   what  been  most lifechanging experience  your life       repeat  most  today     perc experience immerse     last thing   friend posted   facebook before committing suicide  next  rest  peace     hello  sorry  hear  your distress  only natural   relationship    perfection   time  every moment  existence   figure  hard times  times  growth            welcome  stuff    game  match   prozac wellbrutin  least thirty minutes  moving your legs   d...   \n",
       "1    finding  lack    these posts very alarming      boring     same position often  example    girlfriend  currently   environment where  have  creatively  cowgirl  missionary there isnt enough   giving  meaning  game theory   hello  grin  thats   takes than  converse  they  most   flirting while  acknowledge their presence  return their words with smooth wordplay  more cheeky grins   this  lack  balance  hand  coordination   real  test  score  internet  tests  funny  score   higher   like  for...   \n",
       "2   good         course  which    know thats  blessing   curse   does being absolutely positive that   your best friend could   amazing couple count   than      more  could  madly  love  case  reconciled  feelings which      didnt thank    link   socalled tisi loop    stem from  current topicobsession   deadly  like when youre stuck  your  thoughts  your mind just wanders  circles feels truly terrible    have  noticed  peculiar vegetation     have    look down   grass dozens  different plant spe...   \n",
       "3   dear     enjoyed  conversation  other   esoteric gabbing about  nature   universe   idea that every rule  social code being arbitrary constructs created   dear     long time    sincerely alpha   none  them  other types hurt  deep existential ways that  want  part    probably  sliding scale that depends  individual preferences like everything  humanity   draco malfoy also    either       either    though  which stacking     somewhat arbitrary distinction  make   believe that  core indicates p...   \n",
       "4   youre fired   thats another silly misconception that approaching  logically  going      unlocking whatever    think   entitled    nobody wants   approached with     guys  really wants     superduperlongass vacation cmon guys  boss just doesnt listen     even approached  logically  everything   never mind just   permanent vacation    months  wouldnt  crazy about  idea    really  best employee then thats what   cooking   wants their most reliable asset gone  that long   employer      like  vie...   \n",
       "5       science    perfect  scientist claims that    that scientific  information will   revised   discover  things  rational  thinking  been very useful   society    edgar allen        your siggy   people   obvious    quick       agree that           compare   haku definite    flat through most  naruto   dont   lets  this party started          disproved   merely said that  found such methods disturbing although  does bring  certain questions    control   universe   governments   world   surpri...   \n",
       "6     cant draw    nails haha those were done  professionals   nails   those      mean those  posted were done  yourself  your  nails awesome   probably  electronic screen syndrome with  advent  technology  social media   suffer from overstimulation   daily basis  guilty  well   past    happy just    love nail arts  these  some  mine         this   first time  hearing this  about menstruation  church thanks  sharing  yeah  crazy  thought only taoists have such  belief   dear very  person   tryin...   \n",
       "7    tend  build   collection  things   desktop that   frequently  then move them into  folder called  everything from there   sorted into type   type      collect  objects even  worka   people would call  junk   like  collect    unused software  take that  your hands   have  bunch   adobe    think  quite normal  tend  only   friends  real life every couple  months  said earlier some people just dont     good ones    edit  mostly mean tolerate    where    when  sleep  dreaming another form  bein...   \n",
       "8     sure thats  good question  distinction between     dependant  perception  quote robb flynn  hate  feel  nothing more than love  feel   this    good question  tough    sure   loved winona ryder  lydia  beetlejuice         been lonely  much   time   while   been working  changing   think     trying  find  positive  everything  matter  bleak  might seem     hope   look back  this current stretch  time  think thank    there anymore  things   much better what  asskickin  taking   help   voice  ...   \n",
       "9       this position where  have  actually     person    various reasons unfortunately  having trouble mustering enough strength  actually pull through  sometimes   what  year  what  year     just utterly bewildered with    this point    laundry  long    clothes left  wear  fine   then  time comes that       left  contend with  mountain that   laundry pile  sent from  apollo     going back   office    hours back  being dumbstruck  confused  your presence back  being   edge    time back  feeling...   \n",
       "10   time  parents were fighting over  dads affair    pushed    fall broke  finger  shes pointed      made     knees     life shes    gonna talk about what  piece  shit        alcoholic    some kind  serious mental problem when  comes  complying with     words laws dont apply   omgat  womens center  lived     catholic charity   bully program manager took  upon herself  change policy  that tenants were forced  attend  christmas party     dont work   have  calling    committed   with  vacation   d...   \n",
       "11         went through  break  some months   were together   years    planned  life around that relationship  wasnt   breaking  relationship   might imagine       puns  many puns   well  personally dont  that much  attractiveness  general      have  will  change that  thats good already      want   with them   merely sexual   sorry      really into postrock     post   going  leave this here  sneak      welcome   wrong thread    that doesnt sound very   think   never  cold towards  romantic inte...   \n",
       "12   santagato              sure   type     know youre    heavy  doesnt make  want  violently bang your head against  wall    know youre     dont naturally  helplessly just feel compassion    yeah according   book shes  ixtp  could relate   movie character   coming into  world where    prominent  becoming incredibly self conscious feeling like  weakest   tris   most  shailene woodleys characters  infx four   macklemore lookalike   christina  esxp kate winslets character     never read  books  th...   \n",
       "13  fair enough  thats   want  look   like  stated before they were incredibly naive  their comments however they think those  things that would help  because those      myself mbti serves   source  self reflection   opportunity  better myself therefore when  opportunity  gain insight  what  things that    able  improve upon     think this article    more helpful   views    people share  thing they think would make   they know lifes easier    would probably help     negative     very least  good...   \n",
       "14  basically this       cheezburgr     very fond       certainly   expect    thread about  hats  here haha   streets  rage   sega    think incorrectly   senior year  high school  found      rapist     college applications  sister  insane  started doing awful  school because  high anxiety  depression because     believe that richard  probably ruling  country somewhere  developing  cure   diseases  existence     much procrastination  started  paper that   multiple months     that        finished ...   \n",
       "15  your comment screams   especially  useless part   thanks   information doesnt interfere with anything  ever experienced with s plus your signature   lyrics from    favorite bands tool  that song reflection    arent s  kingsqueens  saying things without thinkingwithout wanting  think  offense  guys   fucking magnificent     dangerous  these scary words  such     dangerous  already knew   unhealthy before  entered perc perc cant make  more unhealthy    what  fuck  that  your signature some obs...   \n",
       "16  some  these both excite  calm   butts  bodies  brains  community gardens  camping  camping with dogs  hiking with dogs  chillin with animals    would hope that   engages  s baiting  christianity    that will  nowhere    hope    being misunderstood cause  effect  what gives   life  then  individual  apply whatever cosmic ontology religion mythology philosophy  their    thanks  helping  with   coherence  cough     some reason      mind that cosmology meant  originstory   just  scientific   wha...   \n",
       "17   think   agree  personally dont consider myself alpha beta  foxtrot     joke people  people  both agree that having emotions isnt  same  being weak whiny   literature  suggest everyday   charlotte joko beck   solid introduction into mindfulness meditation what  means    chan buddhism isnt exactly  same      being emotional doesnt automatically make someone  alpha every single human being regardless     type  emotional   feel things intensely  emotions need   kept      chan buddhist    daily ...   \n",
       "18   fully believe   power  being  protector  give  voice   voiceless   that spirit  present this film  hope   recieved   spirit  compassion   mani padme        quite right  many times this help   come from outside  relationship  partner   supportive  helpful   think getting  right help  critical  finding  good     doesnt feel worthy  being loved nothing     will make  difference   bossy   think jawz  very much   something here  further  think this  indicative  much deeper issues that were aroun...   \n",
       "19  thats normal  happens also       high mood    like   depressed like   satisfied  relaxed    real type  mine       they     sheeps clothing  that     nobody will obey   till  dont give them  chance  obey  without consciously knowing they  obeying      society feels  compulsion  shield itself  dissociate itself from  what falls   point distant enough from  norm  synonym  average  that  what  much uglier  what     thoroughly  person mission  life  deep understanding  sheer truth   thoroughly  p...   \n",
       "20  steve jobs  recognized   striving  efficiency  practicality  genius    systemization  inventions less  than  invention this  where claims     come from   pencil    type  emotion type  what drove emotion   obvious troll    either    there            behavior with  cognition  cognition describes   thought process which   prone  develop certain behaviors   every edgy   their mother acts  their  days  very idea  borrowing types  progressively chameleoning screams    specifically  that order    c...   \n",
       "21    very annoying   misinterpreted especially with regards  your core  your intentions  desires like when people keep saying that youre  love with somebody  whom  only    xnoble naturesx      betweenxnietzsche ecce homo       leaves  house  bright festive clothes needs only   drop   splashed from under  wheel  people    what should   when  walk down  streets  certain strangers  stare   shamelessly  these same people wear tshirts with death  threats  later  tell about       what should   when  ...   \n",
       "22                                                                                                                                                                                                                                                                                                                                                                                                        interested   lazy   research  because  timeconsuming    welcome   club mate     that profile picture  yours     \n",
       "23    sorry  couldnt resist      s please collectively marry    when    interested    will know   s   favorite  this reason    seems  have  similar vibe  this girl  cant tell  shes    actually  seems  like lists  talking ideas  loud  much     user   claims         look  those eyes  think dogs   excellent spirit animals    repost damn   puppythesmalldogbreedsjpg   look  those eyes  think dogs   excellent spirit animals     what  your spirit animal       almost seems like more people like s than s...   \n",
       "24  still going strong  just over   year mark  have made noticeable changes    plan  slowing  have attached   year progress picture  with  face cropped   know    congrats fellow    thats funny  like   there   some truth   haha    dont follow trends necessarily although       unless   making   clothing   like  look nice  matter what  situation though   summer just hanging      someone  throws such sweeping generalizations around  have  hard time thinking youre  weak  possibly  just your general l...   \n",
       "25  personally   thinking this would  more    type    ways     having some issues  while back finding    couldnt      arts  crafts store which   ideal       interview before    given  call back   always   personally  dont want astrology numerology   that garbage   true because   research    personality   hate    makes  look like  have  good future  what    would love  develop more      spiritual intelligence emotionally somewhat smart  intellectually stupid       youre kinda  theatre version   a...   \n",
       "26   doesnt want     trip without    staying behind wouldnt   option    think  really does believe that    being unreasonable  still continues   that    still completely     amazed that  doesnt think twice about leaving   them   that will make them feel  said  wants  tell them that   willing  work extra    thanks everyone  struggling with being selfish   just going ahead  working     rest  dont want  husband  feel unloved  like  dont care about  feelingsbut    husband works  extra  each year    ...   \n",
       "27  they paint without numbers    guess       best    very funny entertaining    softy    draining yapping away  everything  often     conversation with      would   good      used  smoke weed alot everyday from morning till night   years  screwed  head  even when  stopped smoking   good  call   head    went  docs then  passed onto   jimi hendrix   wind cries mary  after   jacks   their boxes   clowns have  gone      hear happiness staggering  down  street   favorite line    gardeninglandscape d...   \n",
       "28  basically  main questions   what   believe   what   values that matter  most    sorry   tend   confusing     this   second thread today   feel like this  important well every time   something    scared which  normal right  however  individually react differently     well personally  dont  myself asking something like  girl      lets  compatible     know what  mean   seriously  think  just depends       well seems   like        very caring  sensitive  dont like authority    motivated  money  ...   \n",
       "29   think that that  absolutely  true  s   shamefully have much potential  that department  gonna    guilty  some unwarranted door slams  maybe   seem cruel       people here seem    themselves that  they door slam someone there  always  justifiable reason however   honest  myself  would have   that that   always     stability  constancy  very important   partner    right  that  very well   testing     this  real people make    empty promises   heat     this question  interesting   because  hav...   \n",
       "\n",
       "    LenPre  \n",
       "0     3401  \n",
       "1     6451  \n",
       "2     5060  \n",
       "3     6184  \n",
       "4     5727  \n",
       "5     8515  \n",
       "6     7759  \n",
       "7     6857  \n",
       "8     4267  \n",
       "9     7272  \n",
       "10    8338  \n",
       "11    4593  \n",
       "12    7008  \n",
       "13    9036  \n",
       "14    5207  \n",
       "15    7192  \n",
       "16    8117  \n",
       "17    9490  \n",
       "18    8851  \n",
       "19    7061  \n",
       "20    6678  \n",
       "21    6563  \n",
       "22    6904  \n",
       "23    3770  \n",
       "24    6194  \n",
       "25    6285  \n",
       "26    9547  \n",
       "27    5040  \n",
       "28    8108  \n",
       "29    8738  "
      ]
     },
     "execution_count": 47,
     "metadata": {},
     "output_type": "execute_result"
    }
   ],
   "source": [
    "df.head(30)"
   ]
  },
  {
   "cell_type": "code",
   "execution_count": 45,
   "metadata": {
    "collapsed": false
   },
   "outputs": [],
   "source": [
    "#Strip Punctation\n",
    "df[\"posts\"] = df[\"posts\"].apply(lambda x: re.sub(r'[^\\w\\s]','',x))\n",
    "\n",
    "#Remove Non-words\n",
    "df[\"posts\"] = df[\"posts\"].apply(lambda x: re.sub(r'[^a-zA-Z\\s]','',x))\n",
    "\n",
    "#To lower\n",
    "df[\"posts\"] = df[\"posts\"].apply(lambda x: x.lower())\n",
    "\n",
    "#Remove multiple letter repating words\n",
    "df[\"posts\"] = df[\"posts\"].apply(lambda x: re.sub(r'([a-z])\\1{2,}[\\s|\\w]*','',x)) \n",
    "\n",
    "#Remove short/long words\n",
    "df[\"posts\"] = df[\"posts\"].apply(lambda x: re.sub(r'(\\b\\w{0,3})?\\b','',x)) \n",
    "df[\"posts\"] = df[\"posts\"].apply(lambda x: re.sub(r'(\\b\\w{30,1000})?\\b','',x))"
   ]
  },
  {
   "cell_type": "code",
   "execution_count": 46,
   "metadata": {
    "collapsed": true
   },
   "outputs": [],
   "source": [
    "#Remove Type Hot Words\n",
    "pers_types = ['INFP' ,'INFJ', 'INTP', 'INTJ', 'ENTP', 'ENFP', 'ISTP' ,'ISFP' ,'ENTJ', 'ISTJ','ENFJ', 'ISFJ' ,'ESTP', 'ESFP' ,'ESFJ' ,'ESTJ']\n",
    "pers_types = [p.lower() for p in pers_types]\n",
    "p = re.compile(\"(\" + \"|\".join(pers_types) + \")\")\n",
    "\n",
    "df[\"posts\"] = df[\"posts\"].apply(lambda x: p.sub('',x))"
   ]
  },
  {
   "cell_type": "markdown",
   "metadata": {},
   "source": [
    "## BOW Model"
   ]
  },
  {
   "cell_type": "code",
   "execution_count": 48,
   "metadata": {
    "collapsed": true
   },
   "outputs": [],
   "source": [
    "from sklearn.feature_extraction.text import TfidfVectorizer, CountVectorizer\n",
    "from sklearn.preprocessing import LabelEncoder, RobustScaler\n",
    "from sklearn.model_selection import train_test_split\n",
    "from sklearn.naive_bayes import MultinomialNB\n",
    "from sklearn.linear_model import SGDClassifier\n",
    "from nltk.stem.snowball import SnowballStemmer"
   ]
  },
  {
   "cell_type": "code",
   "execution_count": 18,
   "metadata": {
    "collapsed": true
   },
   "outputs": [],
   "source": [
    "#Stem\n",
    "stemmer = SnowballStemmer(\"english\")\n",
    "\n",
    "df[\"posts\"] = df[\"posts\"].apply(lambda x: \" \".join(stemmer.stem(p) for p in x.split(\" \")))"
   ]
  },
  {
   "cell_type": "code",
   "execution_count": 136,
   "metadata": {
    "collapsed": false
   },
   "outputs": [],
   "source": [
    "vect = CountVectorizer(stop_words='english', min_df =2) \n",
    "#vect = TfidfVectorizer(stop_words='english', min_df =0.0001)\n",
    "X =  vect.fit_transform(df[\"posts\"]) \n",
    "\n",
    "le = LabelEncoder()\n",
    "y = le.fit_transform(df[\"type\"])\n",
    "\n",
    "X_train, X_test, y_train, y_test = train_test_split(X, y, test_size=0.1, stratify=y, random_state=42)"
   ]
  },
  {
   "cell_type": "code",
   "execution_count": 167,
   "metadata": {
    "collapsed": false
   },
   "outputs": [
    {
     "data": {
      "text/plain": [
       "0.12096774193548387"
      ]
     },
     "execution_count": 167,
     "metadata": {},
     "output_type": "execute_result"
    }
   ],
   "source": [
    "#MonteCarlo\n",
    "def predict_random_guess(priors, lp):\n",
    "    return np.random.choice(priors.index, lp, p=priors.values)\n",
    "\n",
    "np.mean(le.transform(predict_random_guess(priors, len(y_test))) == y_test)"
   ]
  },
  {
   "cell_type": "code",
   "execution_count": 137,
   "metadata": {
    "collapsed": false
   },
   "outputs": [
    {
     "data": {
      "image/png": "[encoded data removed]",
      "text/plain": [
       "<matplotlib.figure.Figure at 0x7f33e31b9748>"
      ]
     },
     "metadata": {},
     "output_type": "display_data"
    }
   ],
   "source": [
    "#Most frequent Words\n",
    "#vect.vocabulary_.get(u'infj')\n",
    "sum_words = X.sum(axis=0)\n",
    "words_freq = [(word, sum_words[0, idx]) for word, idx in vect.vocabulary_.items()]\n",
    "words_freq = sorted(words_freq, key = lambda x: x[1], reverse=True)\n",
    "wfdf = pd.DataFrame(words_freq)\n",
    "f = sns.distplot(wfdf[1]).set_title(\"Distribution of Number of occurances of words\");"
   ]
  },
  {
   "cell_type": "code",
   "execution_count": 138,
   "metadata": {
    "collapsed": false
   },
   "outputs": [
    {
     "data": {
      "text/plain": [
       "(42747, 42747)"
      ]
     },
     "execution_count": 138,
     "metadata": {},
     "output_type": "execute_result"
    }
   ],
   "source": [
    "len(wfdf), len(wfdf[wfdf[1] > 1])"
   ]
  },
  {
   "cell_type": "code",
   "execution_count": 139,
   "metadata": {
    "collapsed": false
   },
   "outputs": [
    {
     "name": "stdout",
     "output_type": "stream",
     "text": [
      "Train accuracy: 0.8772896118867682\n",
      "Test accuracy: 0.32027649769585254\n"
     ]
    }
   ],
   "source": [
    "clf = MultinomialNB(alpha=0.4, fit_prior=False)\n",
    "clf.fit(X_train, y_train)\n",
    "\n",
    "yp_train = clf.predict(X_train)\n",
    "print(\"Train accuracy:\", np.mean(yp_train == y_train))\n",
    "\n",
    "yp_test = clf.predict(X_test)\n",
    "print(\"Test accuracy:\", np.mean(yp_test == y_test))\n",
    "#Train accuracy: 0.8624311515306776\n",
    "#Test accuracy: 0.34101382488479265"
   ]
  },
  {
   "cell_type": "code",
   "execution_count": 140,
   "metadata": {
    "collapsed": false
   },
   "outputs": [
    {
     "name": "stdout",
     "output_type": "stream",
     "text": [
      "42747\n",
      "PT: ENFJ 42747\n",
      "        freq     word\n",
      "0  -4.312919     like\n",
      "1  -4.582907     just\n",
      "2  -4.596608    think\n",
      "3  -4.679670   people\n",
      "4  -4.706680     dont\n",
      "5  -4.927943   really\n",
      "6  -4.934369     know\n",
      "7  -5.122984     feel\n",
      "8  -5.317103     love\n",
      "9  -5.368828     time\n",
      "10 -5.484788   things\n",
      "11 -5.518895     want\n",
      "12 -5.538358     good\n",
      "13 -5.752307  friends\n",
      "14 -5.833405   person\n",
      "15 -5.838699    thats\n",
      "16 -5.849371    youre\n",
      "17 -5.854750     type\n",
      "18 -5.871064     make\n",
      "19 -5.893238    thing\n",
      "PT: ENFP 42747\n",
      "        freq     word\n",
      "0  -4.095145     like\n",
      "1  -4.332118     just\n",
      "2  -4.421333    think\n",
      "3  -4.504199     dont\n",
      "4  -4.511215   people\n",
      "5  -4.725173     know\n",
      "6  -4.740868   really\n",
      "7  -5.008421     love\n",
      "8  -5.033540     time\n",
      "9  -5.093825     feel\n",
      "10 -5.321391   things\n",
      "11 -5.398950     good\n",
      "12 -5.414962     want\n",
      "13 -5.516824    thats\n",
      "14 -5.557509     type\n",
      "15 -5.576298    youre\n",
      "16 -5.622582    thing\n",
      "17 -5.661534     make\n",
      "18 -5.675936     life\n",
      "19 -5.679165  friends\n",
      "PT: ENTJ 42747\n",
      "        freq    word\n",
      "0  -4.381645    like\n",
      "1  -4.576839    dont\n",
      "2  -4.580195    just\n",
      "3  -4.628402   think\n",
      "4  -4.749513  people\n",
      "5  -5.001814    know\n",
      "6  -5.263973  really\n",
      "7  -5.304758    time\n",
      "8  -5.364314    type\n",
      "9  -5.440804    good\n",
      "10 -5.451459    want\n",
      "11 -5.500865   youre\n",
      "12 -5.570783  things\n",
      "13 -5.626629   thats\n",
      "14 -5.665671    feel\n",
      "15 -5.665671    make\n",
      "16 -5.908584    need\n",
      "17 -5.908584    life\n",
      "18 -5.938642    sure\n",
      "19 -5.951806   going\n",
      "PT: ENTP 42747\n",
      "        freq      word\n",
      "0  -4.180265      like\n",
      "1  -4.372859      just\n",
      "2  -4.415146      dont\n",
      "3  -4.471072     think\n",
      "4  -4.549340    people\n",
      "5  -4.813160      know\n",
      "6  -4.939960    really\n",
      "7  -5.141472      time\n",
      "8  -5.391984      good\n",
      "9  -5.475005    things\n",
      "10 -5.477316      type\n",
      "11 -5.483117     youre\n",
      "12 -5.533223      want\n",
      "13 -5.595041      make\n",
      "14 -5.626773      feel\n",
      "15 -5.648501      love\n",
      "16 -5.673524     thats\n",
      "17 -5.729987  actually\n",
      "18 -5.740467     thing\n",
      "19 -5.755633      sure\n",
      "PT: ESFJ 42747\n",
      "        freq     word\n",
      "0  -4.684070     like\n",
      "1  -4.877422    think\n",
      "2  -5.034136   people\n",
      "3  -5.039139     dont\n",
      "4  -5.173100     just\n",
      "5  -5.314526     know\n",
      "6  -5.479301   really\n",
      "7  -5.657891     time\n",
      "8  -5.695846     love\n",
      "9  -5.705565     feel\n",
      "10 -5.725289     type\n",
      "11 -5.852579   things\n",
      "12 -6.011644     good\n",
      "13 -6.052245     make\n",
      "14 -6.094565  friends\n",
      "15 -6.094565     want\n",
      "16 -6.338087    thats\n",
      "17 -6.356641    years\n",
      "18 -6.375545    youre\n",
      "19 -6.375545     sure\n",
      "PT: ESFP 42747\n",
      "        freq    word\n",
      "0  -4.878962    like\n",
      "1  -5.067264    dont\n",
      "2  -5.083757   think\n",
      "3  -5.152591    just\n",
      "4  -5.313295  people\n",
      "5  -5.455431    know\n",
      "6  -5.471639  really\n",
      "7  -6.039046    feel\n",
      "8  -6.098411    type\n",
      "9  -6.113820    good\n",
      "10 -6.177944    want\n",
      "11 -6.177944    time\n",
      "12 -6.378983   youre\n",
      "13 -6.399433    love\n",
      "14 -6.399433    make\n",
      "15 -6.420311   thats\n",
      "16 -6.463421  things\n",
      "17 -6.485694  thanks\n",
      "18 -6.508474  pretty\n",
      "19 -6.555652    sure\n",
      "PT: ESTJ 42747\n",
      "        freq     word\n",
      "0  -5.110098     like\n",
      "1  -5.156242    think\n",
      "2  -5.309016     just\n",
      "3  -5.315918   people\n",
      "4  -5.380272     dont\n",
      "5  -5.719999     know\n",
      "6  -5.952522   really\n",
      "7  -5.965698     time\n",
      "8  -5.965698     want\n",
      "9  -6.020207     love\n",
      "10 -6.107983   things\n",
      "11 -6.171095     type\n",
      "12 -6.187516     make\n",
      "13 -6.368514  friends\n",
      "14 -6.388555     best\n",
      "15 -6.409005     need\n",
      "16 -6.409005    going\n",
      "17 -6.429883     good\n",
      "18 -6.451206     work\n",
      "19 -6.472993     feel\n",
      "PT: ESTP 42747\n",
      "        freq     word\n",
      "0  -4.464182     like\n",
      "1  -4.670634     dont\n",
      "2  -4.741625     just\n",
      "3  -4.799882    think\n",
      "4  -4.887603   people\n",
      "5  -5.082180     know\n",
      "6  -5.375980   really\n",
      "7  -5.569679     type\n",
      "8  -5.629737     time\n",
      "9  -5.746317     good\n",
      "10 -5.843638   things\n",
      "11 -5.932665     sure\n",
      "12 -5.932665    thats\n",
      "13 -5.970620     make\n",
      "14 -5.970620   pretty\n",
      "15 -5.970620     want\n",
      "16 -6.030399    youre\n",
      "17 -6.083098     said\n",
      "18 -6.116104     life\n",
      "19 -6.116104  friends\n",
      "PT: INFJ 42747\n",
      "        freq    word\n",
      "0  -4.162872    like\n",
      "1  -4.336885    just\n",
      "2  -4.423906    dont\n",
      "3  -4.445520   think\n",
      "4  -4.472692  people\n",
      "5  -4.718716    know\n",
      "6  -4.792297  really\n",
      "7  -5.022256    time\n",
      "8  -5.034754    feel\n",
      "9  -5.267342    love\n",
      "10 -5.291435  things\n",
      "11 -5.326261    good\n",
      "12 -5.395020    want\n",
      "13 -5.468347    type\n",
      "14 -5.479128    life\n",
      "15 -5.600828   youre\n",
      "16 -5.606089    make\n",
      "17 -5.678377   thats\n",
      "18 -5.705192  person\n",
      "19 -5.716253   thing\n",
      "PT: INFP 42747\n",
      "        freq    word\n",
      "0  -4.038681    like\n",
      "1  -4.315659    just\n",
      "2  -4.352596   think\n",
      "3  -4.354436    dont\n",
      "4  -4.460484  people\n",
      "5  -4.637575  really\n",
      "6  -4.711532    know\n",
      "7  -4.895581    feel\n",
      "8  -4.995885    time\n",
      "9  -5.090081    love\n",
      "10 -5.275044    good\n",
      "11 -5.285776  things\n",
      "12 -5.293720    want\n",
      "13 -5.445313    life\n",
      "14 -5.604581    type\n",
      "15 -5.649609    make\n",
      "16 -5.677951   youre\n",
      "17 -5.679549   thats\n",
      "18 -5.688117   thing\n",
      "19 -5.744536   going\n",
      "PT: INTJ 42747\n",
      "        freq    word\n",
      "0  -4.224311    like\n",
      "1  -4.368139    dont\n",
      "2  -4.463006    just\n",
      "3  -4.503525  people\n",
      "4  -4.569153   think\n",
      "5  -4.825122    know\n",
      "6  -5.027826  really\n",
      "7  -5.069501    time\n",
      "8  -5.407659    want\n",
      "9  -5.411975  things\n",
      "10 -5.432576    good\n",
      "11 -5.527104    feel\n",
      "12 -5.546707    type\n",
      "13 -5.550959    make\n",
      "14 -5.617753   youre\n",
      "15 -5.666755   thats\n",
      "16 -5.729255    love\n",
      "17 -5.786893    life\n",
      "18 -5.831941   going\n",
      "19 -5.838546   thing\n",
      "PT: INTP 42747\n",
      "        freq      word\n",
      "0  -4.191390      like\n",
      "1  -4.360277      dont\n",
      "2  -4.373085      just\n",
      "3  -4.475577     think\n",
      "4  -4.501201    people\n",
      "5  -4.823136      know\n",
      "6  -4.942639    really\n",
      "7  -5.077268      time\n",
      "8  -5.362793    things\n",
      "9  -5.392460      good\n",
      "10 -5.468241      want\n",
      "11 -5.521379      feel\n",
      "12 -5.558039      make\n",
      "13 -5.627876     thats\n",
      "14 -5.641531      type\n",
      "15 -5.648759     youre\n",
      "16 -5.725488      love\n",
      "17 -5.725488  actually\n",
      "18 -5.755850     thing\n",
      "19 -5.768406      life\n",
      "PT: ISFJ 42747\n",
      "        freq    word\n",
      "0  -4.325940    like\n",
      "1  -4.505953   think\n",
      "2  -4.616331    just\n",
      "3  -4.629567    dont\n",
      "4  -4.863007  people\n",
      "5  -4.978846  really\n",
      "6  -5.042220    know\n",
      "7  -5.165238    time\n",
      "8  -5.302272    feel\n",
      "9  -5.338833  things\n",
      "10 -5.476532    good\n",
      "11 -5.524274    type\n",
      "12 -5.613733    love\n",
      "13 -5.678153    sure\n",
      "14 -5.762403  pretty\n",
      "15 -5.799268    want\n",
      "16 -5.860094    life\n",
      "17 -5.860094   youre\n",
      "18 -5.906777   thing\n",
      "19 -5.968373   going\n",
      "PT: ISFP 42747\n",
      "        freq    word\n",
      "0  -4.121341    like\n",
      "1  -4.402562    just\n",
      "2  -4.502655    dont\n",
      "3  -4.536301   think\n",
      "4  -4.688311  really\n",
      "5  -4.705355  people\n",
      "6  -4.977443    know\n",
      "7  -5.164806    time\n",
      "8  -5.231109    feel\n",
      "9  -5.331542  things\n",
      "10 -5.361854    love\n",
      "11 -5.393114    good\n",
      "12 -5.474502    want\n",
      "13 -5.495927    type\n",
      "14 -5.706027    life\n",
      "15 -5.750418  pretty\n",
      "16 -5.771590   thats\n",
      "17 -5.782347    make\n",
      "18 -5.830344   thing\n",
      "19 -5.868899    sure\n",
      "PT: ISTJ 42747\n"
     ]
    },
    {
     "name": "stderr",
     "output_type": "stream",
     "text": [
      "/home/brunno/anaconda2/envs/ana41py35/lib/python3.5/site-packages/sklearn/preprocessing/label.py:151: DeprecationWarning: The truth value of an empty array is ambiguous. Returning False, but in future this will result in an error. Use `array.size > 0` to check that an array is not empty.\n",
      "  if diff:\n",
      "/home/brunno/anaconda2/envs/ana41py35/lib/python3.5/site-packages/sklearn/preprocessing/label.py:151: DeprecationWarning: The truth value of an empty array is ambiguous. Returning False, but in future this will result in an error. Use `array.size > 0` to check that an array is not empty.\n",
      "  if diff:\n",
      "/home/brunno/anaconda2/envs/ana41py35/lib/python3.5/site-packages/sklearn/preprocessing/label.py:151: DeprecationWarning: The truth value of an empty array is ambiguous. Returning False, but in future this will result in an error. Use `array.size > 0` to check that an array is not empty.\n",
      "  if diff:\n",
      "/home/brunno/anaconda2/envs/ana41py35/lib/python3.5/site-packages/sklearn/preprocessing/label.py:151: DeprecationWarning: The truth value of an empty array is ambiguous. Returning False, but in future this will result in an error. Use `array.size > 0` to check that an array is not empty.\n",
      "  if diff:\n",
      "/home/brunno/anaconda2/envs/ana41py35/lib/python3.5/site-packages/sklearn/preprocessing/label.py:151: DeprecationWarning: The truth value of an empty array is ambiguous. Returning False, but in future this will result in an error. Use `array.size > 0` to check that an array is not empty.\n",
      "  if diff:\n",
      "/home/brunno/anaconda2/envs/ana41py35/lib/python3.5/site-packages/sklearn/preprocessing/label.py:151: DeprecationWarning: The truth value of an empty array is ambiguous. Returning False, but in future this will result in an error. Use `array.size > 0` to check that an array is not empty.\n",
      "  if diff:\n",
      "/home/brunno/anaconda2/envs/ana41py35/lib/python3.5/site-packages/sklearn/preprocessing/label.py:151: DeprecationWarning: The truth value of an empty array is ambiguous. Returning False, but in future this will result in an error. Use `array.size > 0` to check that an array is not empty.\n",
      "  if diff:\n",
      "/home/brunno/anaconda2/envs/ana41py35/lib/python3.5/site-packages/sklearn/preprocessing/label.py:151: DeprecationWarning: The truth value of an empty array is ambiguous. Returning False, but in future this will result in an error. Use `array.size > 0` to check that an array is not empty.\n",
      "  if diff:\n",
      "/home/brunno/anaconda2/envs/ana41py35/lib/python3.5/site-packages/sklearn/preprocessing/label.py:151: DeprecationWarning: The truth value of an empty array is ambiguous. Returning False, but in future this will result in an error. Use `array.size > 0` to check that an array is not empty.\n",
      "  if diff:\n",
      "/home/brunno/anaconda2/envs/ana41py35/lib/python3.5/site-packages/sklearn/preprocessing/label.py:151: DeprecationWarning: The truth value of an empty array is ambiguous. Returning False, but in future this will result in an error. Use `array.size > 0` to check that an array is not empty.\n",
      "  if diff:\n",
      "/home/brunno/anaconda2/envs/ana41py35/lib/python3.5/site-packages/sklearn/preprocessing/label.py:151: DeprecationWarning: The truth value of an empty array is ambiguous. Returning False, but in future this will result in an error. Use `array.size > 0` to check that an array is not empty.\n",
      "  if diff:\n",
      "/home/brunno/anaconda2/envs/ana41py35/lib/python3.5/site-packages/sklearn/preprocessing/label.py:151: DeprecationWarning: The truth value of an empty array is ambiguous. Returning False, but in future this will result in an error. Use `array.size > 0` to check that an array is not empty.\n",
      "  if diff:\n",
      "/home/brunno/anaconda2/envs/ana41py35/lib/python3.5/site-packages/sklearn/preprocessing/label.py:151: DeprecationWarning: The truth value of an empty array is ambiguous. Returning False, but in future this will result in an error. Use `array.size > 0` to check that an array is not empty.\n",
      "  if diff:\n",
      "/home/brunno/anaconda2/envs/ana41py35/lib/python3.5/site-packages/sklearn/preprocessing/label.py:151: DeprecationWarning: The truth value of an empty array is ambiguous. Returning False, but in future this will result in an error. Use `array.size > 0` to check that an array is not empty.\n",
      "  if diff:\n",
      "/home/brunno/anaconda2/envs/ana41py35/lib/python3.5/site-packages/sklearn/preprocessing/label.py:151: DeprecationWarning: The truth value of an empty array is ambiguous. Returning False, but in future this will result in an error. Use `array.size > 0` to check that an array is not empty.\n",
      "  if diff:\n"
     ]
    },
    {
     "name": "stdout",
     "output_type": "stream",
     "text": [
      "        freq    word\n",
      "0  -4.281187    like\n",
      "1  -4.488747    dont\n",
      "2  -4.501645    just\n",
      "3  -4.811052   think\n",
      "4  -4.862470  people\n",
      "5  -5.007506    know\n",
      "6  -5.080042  really\n",
      "7  -5.129469    time\n",
      "8  -5.432537  things\n",
      "9  -5.558103    good\n",
      "10 -5.622351    feel\n",
      "11 -5.632355    type\n",
      "12 -5.719854    want\n",
      "13 -5.742044    work\n",
      "14 -5.795820    make\n",
      "15 -5.840200   thats\n",
      "16 -5.873760    love\n",
      "17 -5.886642   going\n",
      "18 -5.939893   thing\n",
      "19 -5.958293   youre\n",
      "PT: ISTP 42747\n",
      "        freq    word\n",
      "0  -4.258787    like\n",
      "1  -4.337587    dont\n",
      "2  -4.357487    just\n",
      "3  -4.633481   think\n",
      "4  -4.656820  people\n",
      "5  -4.927333  really\n",
      "6  -4.947012    know\n",
      "7  -5.095451    time\n",
      "8  -5.380695    good\n",
      "9  -5.426837  things\n",
      "10 -5.519808    want\n",
      "11 -5.579604    type\n",
      "12 -5.586228   thats\n",
      "13 -5.666935   youre\n",
      "14 -5.679015  pretty\n",
      "15 -5.752114    feel\n",
      "16 -5.773257    make\n",
      "17 -5.786701    love\n",
      "18 -5.822528   thing\n",
      "19 -5.877312   right\n",
      "138\n"
     ]
    },
    {
     "name": "stderr",
     "output_type": "stream",
     "text": [
      "/home/brunno/anaconda2/envs/ana41py35/lib/python3.5/site-packages/sklearn/preprocessing/label.py:151: DeprecationWarning: The truth value of an empty array is ambiguous. Returning False, but in future this will result in an error. Use `array.size > 0` to check that an array is not empty.\n",
      "  if diff:\n"
     ]
    }
   ],
   "source": [
    "#Most Frequent words across personality Types\n",
    "feature_names = vect.get_feature_names()\n",
    "maxC = 250\n",
    "\n",
    "print (len(feature_names))\n",
    "mfw = set()\n",
    "for i, cls in enumerate(clf.feature_log_prob_):\n",
    "    print(\"PT:\", le.inverse_transform(i), len(cls))\n",
    "    tdf = pd.DataFrame({\"word\":feature_names, \"freq\":cls})\n",
    "    tdf.sort_values(\"freq\", ascending=False, inplace=True)\n",
    "    tdf= tdf.reset_index()\n",
    "    if len(mfw) == 0:\n",
    "        mfw = set(tdf[0:maxC][\"word\"])\n",
    "    else:\n",
    "        mfw = mfw.intersection(set(tdf[0:maxC][\"word\"]))\n",
    "    print(tdf[0:][[\"freq\", \"word\"]].head(20))\n",
    "print(len(mfw))"
   ]
  },
  {
   "cell_type": "code",
   "execution_count": 141,
   "metadata": {
    "collapsed": false
   },
   "outputs": [
    {
     "name": "stderr",
     "output_type": "stream",
     "text": [
      "/home/brunno/anaconda2/envs/ana41py35/lib/python3.5/site-packages/sklearn/preprocessing/label.py:151: DeprecationWarning: The truth value of an empty array is ambiguous. Returning False, but in future this will result in an error. Use `array.size > 0` to check that an array is not empty.\n",
      "  if diff:\n",
      "/home/brunno/anaconda2/envs/ana41py35/lib/python3.5/site-packages/sklearn/preprocessing/label.py:151: DeprecationWarning: The truth value of an empty array is ambiguous. Returning False, but in future this will result in an error. Use `array.size > 0` to check that an array is not empty.\n",
      "  if diff:\n",
      "/home/brunno/anaconda2/envs/ana41py35/lib/python3.5/site-packages/sklearn/preprocessing/label.py:151: DeprecationWarning: The truth value of an empty array is ambiguous. Returning False, but in future this will result in an error. Use `array.size > 0` to check that an array is not empty.\n",
      "  if diff:\n",
      "/home/brunno/anaconda2/envs/ana41py35/lib/python3.5/site-packages/sklearn/preprocessing/label.py:151: DeprecationWarning: The truth value of an empty array is ambiguous. Returning False, but in future this will result in an error. Use `array.size > 0` to check that an array is not empty.\n",
      "  if diff:\n",
      "/home/brunno/anaconda2/envs/ana41py35/lib/python3.5/site-packages/sklearn/preprocessing/label.py:151: DeprecationWarning: The truth value of an empty array is ambiguous. Returning False, but in future this will result in an error. Use `array.size > 0` to check that an array is not empty.\n",
      "  if diff:\n",
      "/home/brunno/anaconda2/envs/ana41py35/lib/python3.5/site-packages/sklearn/preprocessing/label.py:151: DeprecationWarning: The truth value of an empty array is ambiguous. Returning False, but in future this will result in an error. Use `array.size > 0` to check that an array is not empty.\n",
      "  if diff:\n",
      "/home/brunno/anaconda2/envs/ana41py35/lib/python3.5/site-packages/sklearn/preprocessing/label.py:151: DeprecationWarning: The truth value of an empty array is ambiguous. Returning False, but in future this will result in an error. Use `array.size > 0` to check that an array is not empty.\n",
      "  if diff:\n"
     ]
    },
    {
     "name": "stdout",
     "output_type": "stream",
     "text": [
      "PT: ENFJ 42747\n",
      "         freq        word\n",
      "63  -6.540375        haha\n",
      "69  -6.595394    feelings\n",
      "81  -6.754459        tend\n",
      "90  -6.823073        hope\n",
      "95  -6.866621        shes\n",
      "97  -6.866621       world\n",
      "98  -6.881569        told\n",
      "102 -6.912152      strong\n",
      "108 -6.943701       using\n",
      "112 -6.976277       music\n",
      "113 -6.992972      change\n",
      "114 -6.992972     problem\n",
      "118 -7.027222       today\n",
      "127 -7.080902   situation\n",
      "129 -7.099455     totally\n",
      "131 -7.118359        sent\n",
      "132 -7.137628      figure\n",
      "134 -7.137628  completely\n",
      "136 -7.157275        song\n",
      "137 -7.177316        head\n",
      "PT: ENFP 42747\n",
      "         freq        word\n",
      "57  -6.321246       world\n",
      "59  -6.336731        haha\n",
      "100 -6.757290     totally\n",
      "102 -6.781342        tend\n",
      "114 -6.883785    feelings\n",
      "116 -6.889194       music\n",
      "117 -6.894631     problem\n",
      "118 -6.900099       funny\n",
      "123 -6.939232        shes\n",
      "124 -6.944949        went\n",
      "125 -6.944949       crazy\n",
      "128 -6.956484        cool\n",
      "129 -6.956484      social\n",
      "131 -6.968152     awesome\n",
      "132 -6.974038  completely\n",
      "135 -6.979959        hope\n",
      "136 -6.979959        told\n",
      "140 -7.003998        head\n",
      "142 -7.016239      change\n",
      "144 -7.060298       today\n",
      "PT: ENTJ 42747\n",
      "         freq        word\n",
      "52  -6.473289   functions\n",
      "72  -6.625705       world\n",
      "87  -6.805603        tend\n",
      "91  -6.837218     problem\n",
      "104 -6.903614      likely\n",
      "111 -6.926763      answer\n",
      "113 -6.926763   situation\n",
      "115 -6.974734    function\n",
      "117 -6.987095    feelings\n",
      "118 -7.012285  interested\n",
      "122 -7.051302       women\n",
      "123 -7.051302       based\n",
      "124 -7.078185        shes\n",
      "127 -7.091903    personal\n",
      "128 -7.091903      change\n",
      "130 -7.105811        haha\n",
      "131 -7.105811      social\n",
      "135 -7.119916     example\n",
      "136 -7.119916   emotional\n",
      "137 -7.119916        stop\n",
      "PT: ENTP 42747\n",
      "         freq        word\n",
      "67  -6.479189       world\n",
      "88  -6.716292   functions\n",
      "90  -6.724311        tend\n",
      "100 -6.773826     problem\n",
      "106 -6.795204      social\n",
      "109 -6.834874        shit\n",
      "110 -6.839381       using\n",
      "111 -6.839381        haha\n",
      "113 -6.862223      answer\n",
      "121 -6.944039  interested\n",
      "123 -6.974591     awesome\n",
      "125 -6.995491  completely\n",
      "126 -7.000784      likely\n",
      "128 -7.006106     certain\n",
      "129 -7.006106       women\n",
      "130 -7.006106       ideas\n",
      "133 -7.011457   generally\n",
      "136 -7.022244        shes\n",
      "137 -7.033150       arent\n",
      "144 -7.083751        stop\n",
      "PT: ESFJ 42747\n",
      "         freq           word\n",
      "39  -6.796395          using\n",
      "48  -6.856293           sent\n",
      "58  -6.953457         iphone\n",
      "67  -7.023908       tapatalk\n",
      "68  -7.023908           tend\n",
      "85  -7.225390      functions\n",
      "89  -7.225390           took\n",
      "99  -7.318917       feelings\n",
      "101 -7.318917           shes\n",
      "105 -7.369178         social\n",
      "112 -7.422101  relationships\n",
      "114 -7.477981        problem\n",
      "116 -7.477981      enneagram\n",
      "117 -7.477981      emotional\n",
      "120 -7.537170           book\n",
      "122 -7.537170     appreciate\n",
      "123 -7.537170          funny\n",
      "124 -7.537170          arent\n",
      "128 -7.600084      sensitive\n",
      "129 -7.600084        husband\n",
      "PT: ESFP 42747\n",
      "         freq       word\n",
      "38  -6.897939   laughing\n",
      "48  -7.005569      using\n",
      "58  -7.084350       sent\n",
      "67  -7.169872   tapatalk\n",
      "84  -7.313660       haha\n",
      "88  -7.366583     social\n",
      "92  -7.422463     iphone\n",
      "94  -7.422463    curious\n",
      "97  -7.481652       plus\n",
      "100 -7.481652       took\n",
      "102 -7.481652      world\n",
      "103 -7.481652       told\n",
      "107 -7.544566       hear\n",
      "115 -7.611705       cool\n",
      "116 -7.611705      movie\n",
      "118 -7.611705     change\n",
      "120 -7.683679  functions\n",
      "121 -7.683679  attention\n",
      "122 -7.683679      music\n",
      "123 -7.683679      stark\n",
      "PT: ESTJ 42747\n",
      "         freq        word\n",
      "42  -6.977962       eagle\n",
      "43  -6.977962        posh\n",
      "75  -7.272970        tend\n",
      "76  -7.323232       world\n",
      "90  -7.432035     problem\n",
      "93  -7.432035        shes\n",
      "94  -7.491224    favorite\n",
      "101 -7.554138    recently\n",
      "110 -7.554138       money\n",
      "111 -7.554138     society\n",
      "115 -7.621277        glad\n",
      "119 -7.621277  completely\n",
      "121 -7.693250        list\n",
      "123 -7.693250   enneagram\n",
      "125 -7.693250       speak\n",
      "126 -7.693250        game\n",
      "127 -7.693250      answer\n",
      "128 -7.770809       means\n",
      "129 -7.770809        ways\n",
      "130 -7.770809       based\n",
      "PT: ESTP 42747\n",
      "         freq        word\n",
      "48  -6.689234        cool\n",
      "80  -7.014656   functions\n",
      "82  -7.071169      female\n",
      "85  -7.071169        shit\n",
      "86  -7.100669       world\n",
      "87  -7.100669     problem\n",
      "88  -7.100669        took\n",
      "97  -7.228230        tend\n",
      "108 -7.335861     example\n",
      "109 -7.335861   attention\n",
      "112 -7.335861       means\n",
      "117 -7.335861        told\n",
      "118 -7.335861     awesome\n",
      "119 -7.335861      social\n",
      "121 -7.374476        wont\n",
      "123 -7.374476  interested\n",
      "124 -7.374476     started\n",
      "125 -7.374476    feelings\n",
      "126 -7.374476        play\n",
      "128 -7.414642        book\n",
      "PT: INFJ 42747\n",
      "         freq        word\n",
      "47  -6.193453       world\n",
      "81  -6.547841        tend\n",
      "96  -6.682791    feelings\n",
      "101 -6.744878     problem\n",
      "110 -6.801348        haha\n",
      "114 -6.818930        hope\n",
      "118 -6.832822       music\n",
      "123 -6.867385      social\n",
      "124 -6.869456   functions\n",
      "128 -6.881972        told\n",
      "131 -6.898907   situation\n",
      "135 -6.929252  completely\n",
      "136 -6.940316      change\n",
      "138 -6.944777        head\n",
      "140 -6.951505     started\n",
      "141 -6.958278    thoughts\n",
      "142 -6.958278      answer\n",
      "145 -6.999912        dear\n",
      "148 -7.021398        wish\n",
      "149 -7.023814  interested\n",
      "PT: INFP 42747\n",
      "         freq        word\n",
      "30  -6.017644       world\n",
      "69  -6.403342       music\n",
      "85  -6.580968        tend\n",
      "93  -6.667335    feelings\n",
      "108 -6.790609        haha\n",
      "110 -6.797109        wish\n",
      "111 -6.797109     problem\n",
      "121 -6.840421       today\n",
      "127 -6.885693     started\n",
      "128 -6.891051      social\n",
      "129 -6.896438        head\n",
      "131 -6.914607        days\n",
      "132 -6.914607        told\n",
      "134 -6.938731        hope\n",
      "138 -6.957693      change\n",
      "142 -6.984858        song\n",
      "146 -7.031153  completely\n",
      "149 -7.058300        book\n",
      "150 -7.058300    thoughts\n",
      "151 -7.062543        play\n",
      "PT: INTJ 42747\n",
      "         freq        word\n",
      "52  -6.332848       world\n",
      "75  -6.538913     problem\n",
      "92  -6.658271        tend\n",
      "98  -6.718036      social\n",
      "103 -6.738779      answer\n",
      "109 -6.811205    feelings\n",
      "114 -6.857319   functions\n",
      "119 -6.894717  interested\n",
      "120 -6.900175      change\n",
      "125 -6.919518     general\n",
      "128 -6.939243       music\n",
      "132 -6.985844       based\n",
      "134 -7.003895    personal\n",
      "136 -7.009985    function\n",
      "137 -7.013044     example\n",
      "138 -7.019191      female\n",
      "139 -7.025375     certain\n",
      "140 -7.025375       using\n",
      "144 -7.037860      likely\n",
      "145 -7.063306      unless\n",
      "PT: INTP 42747\n",
      "         freq        word\n",
      "54  -6.331149       world\n",
      "73  -6.502983     problem\n",
      "82  -6.619527      social\n",
      "83  -6.637090        tend\n",
      "84  -6.662208       music\n",
      "112 -6.860499      answer\n",
      "123 -6.955721    emotions\n",
      "124 -6.977895       using\n",
      "125 -6.985397       based\n",
      "126 -6.990429      change\n",
      "127 -7.000571     started\n",
      "128 -7.005681     certain\n",
      "132 -7.015980        play\n",
      "133 -7.018571   functions\n",
      "136 -7.021169  completely\n",
      "139 -7.026386   emotional\n",
      "140 -7.034262     general\n",
      "141 -7.058270        head\n",
      "142 -7.060973      likely\n",
      "143 -7.063684    thoughts\n",
      "PT: ISFJ 42747\n"
     ]
    },
    {
     "name": "stderr",
     "output_type": "stream",
     "text": [
      "/home/brunno/anaconda2/envs/ana41py35/lib/python3.5/site-packages/sklearn/preprocessing/label.py:151: DeprecationWarning: The truth value of an empty array is ambiguous. Returning False, but in future this will result in an error. Use `array.size > 0` to check that an array is not empty.\n",
      "  if diff:\n",
      "/home/brunno/anaconda2/envs/ana41py35/lib/python3.5/site-packages/sklearn/preprocessing/label.py:151: DeprecationWarning: The truth value of an empty array is ambiguous. Returning False, but in future this will result in an error. Use `array.size > 0` to check that an array is not empty.\n",
      "  if diff:\n",
      "/home/brunno/anaconda2/envs/ana41py35/lib/python3.5/site-packages/sklearn/preprocessing/label.py:151: DeprecationWarning: The truth value of an empty array is ambiguous. Returning False, but in future this will result in an error. Use `array.size > 0` to check that an array is not empty.\n",
      "  if diff:\n",
      "/home/brunno/anaconda2/envs/ana41py35/lib/python3.5/site-packages/sklearn/preprocessing/label.py:151: DeprecationWarning: The truth value of an empty array is ambiguous. Returning False, but in future this will result in an error. Use `array.size > 0` to check that an array is not empty.\n",
      "  if diff:\n",
      "/home/brunno/anaconda2/envs/ana41py35/lib/python3.5/site-packages/sklearn/preprocessing/label.py:151: DeprecationWarning: The truth value of an empty array is ambiguous. Returning False, but in future this will result in an error. Use `array.size > 0` to check that an array is not empty.\n",
      "  if diff:\n",
      "/home/brunno/anaconda2/envs/ana41py35/lib/python3.5/site-packages/sklearn/preprocessing/label.py:151: DeprecationWarning: The truth value of an empty array is ambiguous. Returning False, but in future this will result in an error. Use `array.size > 0` to check that an array is not empty.\n",
      "  if diff:\n"
     ]
    },
    {
     "name": "stdout",
     "output_type": "stream",
     "text": [
      "         freq        word\n",
      "68  -6.615578        tend\n",
      "87  -6.801790   functions\n",
      "91  -6.877699       world\n",
      "94  -6.893598        shes\n",
      "101 -6.942869     problem\n",
      "103 -6.942869    feelings\n",
      "109 -6.959847  completely\n",
      "110 -6.977119       using\n",
      "122 -7.087525        hope\n",
      "123 -7.087525     certain\n",
      "124 -7.087525      likely\n",
      "125 -7.087525       hello\n",
      "127 -7.107172       music\n",
      "129 -7.107172    inferior\n",
      "132 -7.147663     example\n",
      "135 -7.147663     depends\n",
      "136 -7.168541       based\n",
      "139 -7.189864    thoughts\n",
      "142 -7.189864        went\n",
      "143 -7.211651        open\n",
      "PT: ISFP 42747\n",
      "         freq       word\n",
      "34  -6.212631      music\n",
      "84  -6.740602       song\n",
      "86  -6.769202       haha\n",
      "93  -6.818766   feelings\n",
      "95  -6.828981       tend\n",
      "98  -6.839301      world\n",
      "110 -6.937312    problem\n",
      "111 -6.948819       shes\n",
      "112 -6.948819    started\n",
      "117 -6.972240       cool\n",
      "118 -6.972240       perc\n",
      "120 -6.972240  functions\n",
      "126 -7.045983      using\n",
      "129 -7.058820     change\n",
      "132 -7.098351       play\n",
      "135 -7.125601      sound\n",
      "137 -7.125601     social\n",
      "139 -7.139509     moment\n",
      "140 -7.153614       hope\n",
      "141 -7.153614     answer\n",
      "PT: ISTJ 42747\n",
      "         freq         word\n",
      "87  -6.762283  introverted\n",
      "89  -6.762283         tend\n",
      "99  -6.871802      problem\n",
      "110 -6.956291         rant\n",
      "111 -6.968966        world\n",
      "112 -6.968966         took\n",
      "113 -6.968966       social\n",
      "114 -6.981803        music\n",
      "117 -7.007982     feelings\n",
      "122 -7.048583         days\n",
      "123 -7.048583       answer\n",
      "125 -7.062492         told\n",
      "129 -7.120144         haha\n",
      "130 -7.120144    situation\n",
      "131 -7.120144   interested\n",
      "134 -7.120144     laughing\n",
      "138 -7.135092      started\n",
      "142 -7.165676         head\n",
      "143 -7.165676        money\n",
      "145 -7.181326        today\n",
      "PT: ISTP 42747\n",
      "         freq       word\n",
      "84  -6.705431    problem\n",
      "85  -6.712239      world\n",
      "87  -6.739941       tend\n",
      "93  -6.805229       shit\n",
      "99  -6.843431     answer\n",
      "100 -6.851250       cool\n",
      "106 -6.883150      using\n",
      "118 -6.958880       told\n",
      "119 -6.967660      music\n",
      "121 -6.967660       play\n",
      "122 -6.967660    example\n",
      "123 -6.976518     social\n",
      "125 -6.985454   feelings\n",
      "126 -6.985454      whats\n",
      "127 -6.985454    started\n",
      "128 -6.994471       wont\n",
      "129 -6.994471  functions\n",
      "131 -7.003571    general\n",
      "133 -7.022021  situation\n",
      "137 -7.050352     change\n"
     ]
    },
    {
     "name": "stderr",
     "output_type": "stream",
     "text": [
      "/home/brunno/anaconda2/envs/ana41py35/lib/python3.5/site-packages/sklearn/preprocessing/label.py:151: DeprecationWarning: The truth value of an empty array is ambiguous. Returning False, but in future this will result in an error. Use `array.size > 0` to check that an array is not empty.\n",
      "  if diff:\n",
      "/home/brunno/anaconda2/envs/ana41py35/lib/python3.5/site-packages/sklearn/preprocessing/label.py:151: DeprecationWarning: The truth value of an empty array is ambiguous. Returning False, but in future this will result in an error. Use `array.size > 0` to check that an array is not empty.\n",
      "  if diff:\n",
      "/home/brunno/anaconda2/envs/ana41py35/lib/python3.5/site-packages/sklearn/preprocessing/label.py:151: DeprecationWarning: The truth value of an empty array is ambiguous. Returning False, but in future this will result in an error. Use `array.size > 0` to check that an array is not empty.\n",
      "  if diff:\n"
     ]
    }
   ],
   "source": [
    "for i, cls in enumerate(clf.feature_log_prob_):\n",
    "    print(\"PT:\", le.inverse_transform(i), len(cls))\n",
    "    tdf = pd.DataFrame({\"word\":feature_names, \"freq\":cls})\n",
    "    tdf.sort_values(\"freq\", ascending=False, inplace=True)\n",
    "    tdf= tdf.reset_index()\n",
    "    tdf = tdf[tdf.word.apply(lambda x: not(x in mfw))]\n",
    "    print(tdf[0:][[\"freq\", \"word\"]].head(20))"
   ]
  },
  {
   "cell_type": "code",
   "execution_count": 131,
   "metadata": {
    "collapsed": false
   },
   "outputs": [
    {
     "name": "stderr",
     "output_type": "stream",
     "text": [
      "/home/brunno/anaconda2/envs/ana41py35/lib/python3.5/site-packages/sklearn/linear_model/stochastic_gradient.py:128: FutureWarning: max_iter and tol parameters have been added in <class 'sklearn.linear_model.stochastic_gradient.SGDClassifier'> in 0.19. If both are left unset, they default to max_iter=5 and tol=None. If tol is not None, max_iter defaults to max_iter=1000. From 0.21, default max_iter will be 1000, and default tol will be 1e-3.\n",
      "  \"and default tol will be 1e-3.\" % type(self), FutureWarning)\n"
     ]
    },
    {
     "name": "stdout",
     "output_type": "stream",
     "text": [
      "Train accuracy: 0.9322402971692071\n",
      "Test accuracy: 0.32027649769585254\n"
     ]
    }
   ],
   "source": [
    "clf = SGDClassifier(alpha=0.01)\n",
    "clf.fit(X_train, y_train)\n",
    "\n",
    "yp_train = clf.predict(X_train)\n",
    "print(\"Train accuracy:\", np.mean(yp_train == y_train))\n",
    "\n",
    "yp_test = clf.predict(X_test)\n",
    "print(\"Test accuracy:\", np.mean(yp_test == y_test))\n",
    "#Train accuracy: 0.8274625336236711\n",
    "#Test accuracy: 0.40898617511520735"
   ]
  },
  {
   "cell_type": "markdown",
   "metadata": {},
   "source": [
    "## Plot Predictions"
   ]
  },
  {
   "cell_type": "code",
   "execution_count": 142,
   "metadata": {
    "collapsed": false
   },
   "outputs": [
    {
     "name": "stderr",
     "output_type": "stream",
     "text": [
      "/home/brunno/anaconda2/envs/ana41py35/lib/python3.5/site-packages/sklearn/preprocessing/label.py:151: DeprecationWarning: The truth value of an empty array is ambiguous. Returning False, but in future this will result in an error. Use `array.size > 0` to check that an array is not empty.\n",
      "  if diff:\n"
     ]
    }
   ],
   "source": [
    "dft = pd.DataFrame(le.inverse_transform(yp_test),columns=[\"pred\"])\n",
    "dft[\"cnt\"] =  1\n",
    "dft[\"same\"] = (yp_test == y_test)\n",
    "dft[\"same\"] = dft[\"same\"].astype(int)\n",
    "\n",
    "groupsn = dft.groupby(\"pred\").sum()\n",
    "groupsn.sort_values(\"cnt\", ascending=False, inplace=True)\n",
    "#sns.distplot( , kde=False);"
   ]
  },
  {
   "cell_type": "code",
   "execution_count": 168,
   "metadata": {
    "collapsed": false
   },
   "outputs": [
    {
     "data": {
      "image/png": "[encoded data removed]",
      "text/plain": [
       "<matplotlib.figure.Figure at 0x7f33e4953ef0>"
      ]
     },
     "metadata": {},
     "output_type": "display_data"
    }
   ],
   "source": [
    "f, ax = plt.subplots(1,2,figsize=(2*PW,PH))\n",
    "groupsn[\"cnt\"].plot(kind=\"bar\", title=\"Number of People per PT - All test\", ax=ax[0]);\n",
    "groupsn[\"same\"].plot(kind=\"bar\", title=\"Number of People per Personality - Correctly Classified\", ax=ax[1]);\n",
    "#groups[\"posts\"].plot(kind=\"bar\", title=\"Number of People per Personality type\", ax=ax[2]);"
   ]
  },
  {
   "cell_type": "markdown",
   "metadata": {},
   "source": [
    "## Count Analysis"
   ]
  },
  {
   "cell_type": "code",
   "execution_count": 80,
   "metadata": {
    "collapsed": false
   },
   "outputs": [
    {
     "data": {
      "image/png": "[encoded data removed]",
      "text/plain": [
       "<matplotlib.figure.Figure at 0x7f33e9fc28d0>"
      ]
     },
     "metadata": {},
     "output_type": "display_data"
    }
   ],
   "source": [
    "wdf = pd.DataFrame( vect.get_feature_names(),columns=[\"word\"])\n",
    "wdf[\"len\"] = wdf.word.apply(len)\n",
    "sns.distplot(wdf[\"len\"], kde=False);"
   ]
  },
  {
   "cell_type": "code",
   "execution_count": null,
   "metadata": {
    "collapsed": true
   },
   "outputs": [],
   "source": []
  }
 ],
 "metadata": {
  "anaconda-cloud": {},
  "kernelspec": {
   "display_name": "Python [conda env:ana41py35]",
   "language": "python",
   "name": "conda-env-ana41py35-py"
  },
  "language_info": {
   "codemirror_mode": {
    "name": "ipython",
    "version": 3
   },
   "file_extension": ".py",
   "mimetype": "text/x-python",
   "name": "python",
   "nbconvert_exporter": "python",
   "pygments_lexer": "ipython3",
   "version": "3.5.4"
  }
 },
 "nbformat": 4,
 "nbformat_minor": 1
}
