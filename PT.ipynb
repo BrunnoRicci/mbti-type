{
 "cells": [
  {
   "cell_type": "code",
   "execution_count": 1,
   "metadata": {
    "_cell_guid": "b1076dfc-b9ad-4769-8c92-a6c4dae69d19",
    "_uuid": "8f2839f25d086af736a60e9eeb907d3b93b6e0e5",
    "collapsed": false
   },
   "outputs": [
    {
     "name": "stdout",
     "output_type": "stream",
     "text": [
      "['.ipynb_checkpoints', 'mbti_1.csv', 'PT.ipynb']\n"
     ]
    }
   ],
   "source": [
    "# This Python 3 environment comes with many helpful analytics libraries installed\n",
    "# It is defined by the kaggle/python docker image: https://github.com/kaggle/docker-python\n",
    "# For example, here's several helpful packages to load in \n",
    "\n",
    "import numpy as np # linear algebra\n",
    "import seaborn as sns\n",
    "import matplotlib.pyplot as plt\n",
    "PW = 8\n",
    "PH = 6\n",
    "plt.rcParams['figure.figsize'] = (PW, PH) \n",
    "plt.rcParams['image.cmap'] = 'gray'\n",
    "\n",
    "import re\n",
    "import pandas as pd # data processing, CSV file I/O (e.g. pd.read_csv)\n",
    "pd.options.display.max_rows = 250\n",
    "pd.options.display.max_columns = 500\n",
    "pd.options.display.max_colwidth = 500\n",
    "\n",
    "from nltk.tokenize import RegexpTokenizer\n",
    "import string \n",
    "import warnings\n",
    "\n",
    "# Input data files are available in the \"../input/\" directory.\n",
    "# For example, running this (by clicking run or pressing Shift+Enter) will list the files in the input directory\n",
    "\n",
    "import os\n",
    "print(os.listdir(\"./\"))\n",
    "\n",
    "# Any results you write to the current directory are saved as output."
   ]
  },
  {
   "cell_type": "code",
   "execution_count": 123,
   "metadata": {
    "collapsed": false
   },
   "outputs": [
    {
     "name": "stdout",
     "output_type": "stream",
     "text": [
      "Number of users 8675\n"
     ]
    }
   ],
   "source": [
    "df = pd.read_csv(\"./mbti_1.csv\", encoding=\"utf-8\")\n",
    "print(\"Number of users\", len(df))"
   ]
  },
  {
   "cell_type": "markdown",
   "metadata": {},
   "source": [
    "## Explore"
   ]
  },
  {
   "cell_type": "code",
   "execution_count": 124,
   "metadata": {
    "collapsed": false
   },
   "outputs": [
    {
     "data": {
      "text/html": [
       "<div>\n",
       "<style scoped>\n",
       "    .dataframe tbody tr th:only-of-type {\n",
       "        vertical-align: middle;\n",
       "    }\n",
       "\n",
       "    .dataframe tbody tr th {\n",
       "        vertical-align: top;\n",
       "    }\n",
       "\n",
       "    .dataframe thead th {\n",
       "        text-align: right;\n",
       "    }\n",
       "</style>\n",
       "<table border=\"1\" class=\"dataframe\">\n",
       "  <thead>\n",
       "    <tr style=\"text-align: right;\">\n",
       "      <th></th>\n",
       "      <th>type</th>\n",
       "      <th>posts</th>\n",
       "    </tr>\n",
       "  </thead>\n",
       "  <tbody>\n",
       "    <tr>\n",
       "      <th>0</th>\n",
       "      <td>INFJ</td>\n",
       "      <td>'http://www.youtube.com/watch?v=qsXHcwe3krw|||http://41.media.tumblr.com/tumblr_lfouy03PMA1qa1rooo1_500.jpg|||enfp and intj moments  https://www.youtube.com/watch?v=iz7lE1g4XM4  sportscenter not top ten plays  https://www.youtube.com/watch?v=uCdfze1etec  pranks|||What has been the most life-changing experience in your life?|||http://www.youtube.com/watch?v=vXZeYwwRDw8   http://www.youtube.com/watch?v=u8ejam5DP3E  On repeat for most of today.|||May the PerC Experience immerse you.|||The last ...</td>\n",
       "    </tr>\n",
       "    <tr>\n",
       "      <th>1</th>\n",
       "      <td>ENTP</td>\n",
       "      <td>'I'm finding the lack of me in these posts very alarming.|||Sex can be boring if it's in the same position often. For example me and my girlfriend are currently in an environment where we have to creatively use cowgirl and missionary. There isn't enough...|||Giving new meaning to 'Game' theory.|||Hello *ENTP Grin*  That's all it takes. Than we converse and they do most of the flirting while I acknowledge their presence and return their words with smooth wordplay and more cheeky grins.|||This...</td>\n",
       "    </tr>\n",
       "    <tr>\n",
       "      <th>2</th>\n",
       "      <td>INTP</td>\n",
       "      <td>'Good one  _____   https://www.youtube.com/watch?v=fHiGbolFFGw|||Of course, to which I say I know; that's my blessing and my curse.|||Does being absolutely positive that you and your best friend could be an amazing couple count? If so, than yes.   Or it's more I could be madly in love in case I reconciled my feelings (which at...|||No, I didn't; thank you for a link!|||So-called Ti-Si loop (and it can stem from any current topic/obsession) can be deadly. It's like when you're stuck in your o...</td>\n",
       "    </tr>\n",
       "  </tbody>\n",
       "</table>\n",
       "</div>"
      ],
      "text/plain": [
       "   type  \\\n",
       "0  INFJ   \n",
       "1  ENTP   \n",
       "2  INTP   \n",
       "\n",
       "                                                                                                                                                                                                                                                                                                                                                                                                                                                                                                                 posts  \n",
       "0  'http://www.youtube.com/watch?v=qsXHcwe3krw|||http://41.media.tumblr.com/tumblr_lfouy03PMA1qa1rooo1_500.jpg|||enfp and intj moments  https://www.youtube.com/watch?v=iz7lE1g4XM4  sportscenter not top ten plays  https://www.youtube.com/watch?v=uCdfze1etec  pranks|||What has been the most life-changing experience in your life?|||http://www.youtube.com/watch?v=vXZeYwwRDw8   http://www.youtube.com/watch?v=u8ejam5DP3E  On repeat for most of today.|||May the PerC Experience immerse you.|||The last ...  \n",
       "1  'I'm finding the lack of me in these posts very alarming.|||Sex can be boring if it's in the same position often. For example me and my girlfriend are currently in an environment where we have to creatively use cowgirl and missionary. There isn't enough...|||Giving new meaning to 'Game' theory.|||Hello *ENTP Grin*  That's all it takes. Than we converse and they do most of the flirting while I acknowledge their presence and return their words with smooth wordplay and more cheeky grins.|||This...  \n",
       "2  'Good one  _____   https://www.youtube.com/watch?v=fHiGbolFFGw|||Of course, to which I say I know; that's my blessing and my curse.|||Does being absolutely positive that you and your best friend could be an amazing couple count? If so, than yes.   Or it's more I could be madly in love in case I reconciled my feelings (which at...|||No, I didn't; thank you for a link!|||So-called Ti-Si loop (and it can stem from any current topic/obsession) can be deadly. It's like when you're stuck in your o...  "
      ]
     },
     "execution_count": 124,
     "metadata": {},
     "output_type": "execute_result"
    }
   ],
   "source": [
    "df.head(3)"
   ]
  },
  {
   "cell_type": "code",
   "execution_count": 125,
   "metadata": {
    "collapsed": false
   },
   "outputs": [
    {
     "name": "stdout",
     "output_type": "stream",
     "text": [
      "Personality types ['INFP' 'INFJ' 'INTP' 'INTJ' 'ENTP' 'ENFP' 'ISTP' 'ISFP' 'ENTJ' 'ISTJ'\n",
      " 'ENFJ' 'ISFJ' 'ESTP' 'ESFP' 'ESFJ' 'ESTJ']\n"
     ]
    }
   ],
   "source": [
    "#Personality Types\n",
    "groups = df.groupby(\"type\").count()\n",
    "groups.sort_values(\"posts\", ascending=False, inplace=True)\n",
    "print (\"Personality types\", groups.index.values)\n",
    "\n",
    "#Priors used below\n",
    "priors = groups[\"posts\"] / groups[\"posts\"].sum()"
   ]
  },
  {
   "cell_type": "code",
   "execution_count": 126,
   "metadata": {
    "collapsed": false
   },
   "outputs": [
    {
     "data": {
      "image/png": "[encoded data removed]",
      "text/plain": [
       "<matplotlib.figure.Figure at 0x7ffb3183db00>"
      ]
     },
     "metadata": {},
     "output_type": "display_data"
    }
   ],
   "source": [
    "groups[\"posts\"].plot(kind=\"bar\", title=\"Number of People per Personality type\");"
   ]
  },
  {
   "cell_type": "code",
   "execution_count": 127,
   "metadata": {
    "collapsed": false
   },
   "outputs": [
    {
     "data": {
      "image/png": "[encoded data removed]",
      "text/plain": [
       "<matplotlib.figure.Figure at 0x7ffaeedb3630>"
      ]
     },
     "metadata": {},
     "output_type": "display_data"
    }
   ],
   "source": [
    "df[\"LenPre\"] = df[\"posts\"].apply(len)\n",
    "sns.distplot(df[\"LenPre\"]).set_title(\"Distribution of Length of all 50 Posts\");"
   ]
  },
  {
   "cell_type": "code",
   "execution_count": 128,
   "metadata": {
    "collapsed": true
   },
   "outputs": [],
   "source": [
    "def preprocess_text(df, remove_special=True):\n",
    "    #Remove links \n",
    "    df[\"posts\"] = df[\"posts\"].apply(lambda x: re.sub(r'https?:\\/\\/.*?[\\s+]', '', x.replace(\"|\",\" \") + \" \"))\n",
    "    \n",
    "    #Strip Punctation\n",
    "    df[\"posts\"] = df[\"posts\"].apply(lambda x: re.sub(r'[^\\w\\s]','',x))\n",
    "\n",
    "    #Remove Non-words\n",
    "    df[\"posts\"] = df[\"posts\"].apply(lambda x: re.sub(r'[^a-zA-Z\\s]','',x))\n",
    "\n",
    "    #To lower\n",
    "    df[\"posts\"] = df[\"posts\"].apply(lambda x: x.lower())\n",
    "\n",
    "    #Remove multiple letter repating words\n",
    "    df[\"posts\"] = df[\"posts\"].apply(lambda x: re.sub(r'([a-z])\\1{2,}[\\s|\\w]*','',x)) \n",
    "\n",
    "    #Remove short/long words\n",
    "    df[\"posts\"] = df[\"posts\"].apply(lambda x: re.sub(r'(\\b\\w{0,3})?\\b','',x)) \n",
    "    df[\"posts\"] = df[\"posts\"].apply(lambda x: re.sub(r'(\\b\\w{30,1000})?\\b','',x))\n",
    "\n",
    "    #Remove Personality Types Words\n",
    "    if remove_special:\n",
    "        pers_types = ['INFP' ,'INFJ', 'INTP', 'INTJ', 'ENTP', 'ENFP', 'ISTP' ,'ISFP' ,'ENTJ', 'ISTJ','ENFJ', 'ISFJ' ,'ESTP', 'ESFP' ,'ESFJ' ,'ESTJ']\n",
    "        pers_types = [p.lower() for p in pers_types]\n",
    "        p = re.compile(\"(\" + \"|\".join(pers_types) + \")\")\n",
    "\n",
    "    df[\"posts\"] = df[\"posts\"].apply(lambda x: p.sub('',x))\n",
    "    return df"
   ]
  },
  {
   "cell_type": "markdown",
   "metadata": {},
   "source": [
    "## Split Posts"
   ]
  },
  {
   "cell_type": "code",
   "execution_count": 129,
   "metadata": {
    "collapsed": false
   },
   "outputs": [
    {
     "data": {
      "image/png": "[encoded data removed]",
      "text/plain": [
       "<matplotlib.figure.Figure at 0x7ffb06fdfba8>"
      ]
     },
     "metadata": {},
     "output_type": "display_data"
    }
   ],
   "source": [
    "#Number of Posts per User\n",
    "df[\"NumPosts\"] = df[\"posts\"].apply(lambda x: len(x.split(\"|||\")))\n",
    "\n",
    "sns.distplot(df[\"NumPosts\"], kde=False).set_title(\"Number of Posts per User\");"
   ]
  },
  {
   "cell_type": "code",
   "execution_count": 130,
   "metadata": {
    "collapsed": false
   },
   "outputs": [
    {
     "name": "stdout",
     "output_type": "stream",
     "text": [
      "Number of users 8675 Number of posts 422845\n"
     ]
    }
   ],
   "source": [
    "#Split to posts\n",
    "def extract(posts, new_posts):\n",
    "    for post in posts[1].split(\"|||\"):\n",
    "        new_posts.append((posts[0], post))\n",
    "\n",
    "posts = []\n",
    "df.apply(lambda x: extract(x, posts), axis=1)\n",
    "print(\"Number of users\", len(df), \"Number of posts\", len(posts))\n",
    "\n",
    "df = pd.DataFrame(posts, columns=[\"type\", \"posts\"])"
   ]
  },
  {
   "cell_type": "code",
   "execution_count": 131,
   "metadata": {
    "collapsed": false
   },
   "outputs": [
    {
     "data": {
      "image/png": "[encoded data removed]",
      "text/plain": [
       "<matplotlib.figure.Figure at 0x7ffb2cd347b8>"
      ]
     },
     "metadata": {},
     "output_type": "display_data"
    }
   ],
   "source": [
    "df[\"Len\"] = df[\"posts\"].apply(len)\n",
    "sns.distplot(df[\"Len\"]).set_title(\"Post lengths\");"
   ]
  },
  {
   "cell_type": "code",
   "execution_count": 132,
   "metadata": {
    "collapsed": false
   },
   "outputs": [],
   "source": [
    "#Preprocess Text\n",
    "df = preprocess_text(df) "
   ]
  },
  {
   "cell_type": "code",
   "execution_count": 133,
   "metadata": {
    "collapsed": false
   },
   "outputs": [
    {
     "data": {
      "image/png": "[encoded data removed]",
      "text/plain": [
       "<matplotlib.figure.Figure at 0x7ffb06c83438>"
      ]
     },
     "metadata": {},
     "output_type": "display_data"
    }
   ],
   "source": [
    "df[\"Len\"] = df[\"posts\"].apply(len)\n",
    "sns.distplot(df[\"Len\"]).set_title(\"Post lengths\");"
   ]
  },
  {
   "cell_type": "code",
   "execution_count": 136,
   "metadata": {
    "collapsed": false
   },
   "outputs": [],
   "source": [
    "#Remove posts with less than X words\n",
    "min_words = 15\n",
    "df[\"nw\"] = df[\"posts\"].apply(lambda x: len(re.findall(r'\\w+', x)))\n",
    "df = df[df[\"nw\"] >= min_words]"
   ]
  },
  {
   "cell_type": "code",
   "execution_count": 137,
   "metadata": {
    "collapsed": false
   },
   "outputs": [
    {
     "data": {
      "image/png": "[encoded data removed]",
      "text/plain": [
       "<matplotlib.figure.Figure at 0x7ffb028a4ba8>"
      ]
     },
     "metadata": {},
     "output_type": "display_data"
    }
   ],
   "source": [
    "df[\"Len\"] = df[\"posts\"].apply(len)\n",
    "sns.distplot(df[\"Len\"]).set_title(\"Post lengths\");"
   ]
  },
  {
   "cell_type": "code",
   "execution_count": 138,
   "metadata": {
    "collapsed": false
   },
   "outputs": [
    {
     "name": "stdout",
     "output_type": "stream",
     "text": [
      "Number of posts 248868\n",
      "Number of posts 248868\n"
     ]
    }
   ],
   "source": [
    "#Remove short posts\n",
    "print(\"Number of posts\", len(df)) \n",
    "df.drop([\"nw\", \"Len\"],axis=1, inplace=True)\n",
    "print(\"Number of posts\", len(df)) "
   ]
  },
  {
   "cell_type": "markdown",
   "metadata": {},
   "source": [
    "## BOW Model"
   ]
  },
  {
   "cell_type": "code",
   "execution_count": 114,
   "metadata": {
    "collapsed": true
   },
   "outputs": [],
   "source": [
    "from sklearn.feature_extraction.text import TfidfVectorizer, CountVectorizer\n",
    "from sklearn.preprocessing import LabelEncoder, RobustScaler\n",
    "from sklearn.model_selection import train_test_split\n",
    "from sklearn.naive_bayes import MultinomialNB\n",
    "from sklearn.linear_model import SGDClassifier\n",
    "from nltk.stem.snowball import SnowballStemmer"
   ]
  },
  {
   "cell_type": "code",
   "execution_count": 115,
   "metadata": {
    "collapsed": true
   },
   "outputs": [],
   "source": [
    "#Stem\n",
    "stemmer = SnowballStemmer(\"english\")\n",
    "\n",
    "df[\"posts\"] = df[\"posts\"].apply(lambda x: \" \".join(stemmer.stem(p) for p in x.split(\" \")))"
   ]
  },
  {
   "cell_type": "code",
   "execution_count": 116,
   "metadata": {
    "collapsed": false
   },
   "outputs": [],
   "source": [
    "vect = CountVectorizer(stop_words='english') #min_df=2 \n",
    "#vect = TfidfVectorizer(stop_words='english')\n",
    "X =  vect.fit_transform(df[\"posts\"]) \n",
    "\n",
    "le = LabelEncoder()\n",
    "y = le.fit_transform(df[\"type\"])\n",
    "\n",
    "X_train, X_test, y_train, y_test = train_test_split(X, y, test_size=0.1, stratify=y, random_state=42)"
   ]
  },
  {
   "cell_type": "code",
   "execution_count": 117,
   "metadata": {
    "collapsed": false
   },
   "outputs": [],
   "source": [
    "# #Most frequent Words\n",
    "# #vect.vocabulary_.get(u'infj')\n",
    "# sum_words = X.sum(axis=0)\n",
    "# words_freq = [(word, sum_words[0, idx]) for word, idx in vect.vocabulary_.items()]\n",
    "# words_freq = sorted(words_freq, key = lambda x: x[1], reverse=True)\n",
    "# wfdf = pd.DataFrame(words_freq)\n",
    "# f = sns.distplot(wfdf[1]).set_title(\"Distribution of Number of occurances of words\");"
   ]
  },
  {
   "cell_type": "markdown",
   "metadata": {},
   "source": [
    "## Random Estimation"
   ]
  },
  {
   "cell_type": "code",
   "execution_count": 118,
   "metadata": {
    "collapsed": false
   },
   "outputs": [
    {
     "name": "stdout",
     "output_type": "stream",
     "text": [
      "Random guessing 16 Types: 0.12912513255567337 0.00173736752073472\n",
      "Random Guessing 4 Categories: 0.6087155355249205 0.0010733011673391228\n"
     ]
    }
   ],
   "source": [
    "def cat_accuracy(yp_test, y_test, le):\n",
    "    ype = np.array(list(\"\".join(le.inverse_transform(yp_test))))\n",
    "    ye = np.array(list(\"\".join(le.inverse_transform(y_test))))\n",
    "    return (ype == ye).mean()\n",
    "\n",
    "def predict_random_guess(priors, lp):\n",
    "    return np.random.choice(priors.index, lp, p=priors.values)\n",
    "\n",
    "num_iter = 100\n",
    "mc16 = np.zeros(num_iter)\n",
    "mc4 = np.zeros(num_iter)\n",
    "\n",
    "warnings.filterwarnings(action='ignore', category=DeprecationWarning)\n",
    "for i in range(100):\n",
    "    mc16[i] = np.mean(le.transform(predict_random_guess(priors, len(y_test))) == y_test)\n",
    "    mc4[i] = cat_accuracy(le.transform(predict_random_guess(priors, len(y_test))), y_test, le)\n",
    "\n",
    "\n",
    "print (\"Random guessing 16 Types:\", mc16.mean(), mc16.std())\n",
    "print (\"Random Guessing 4 Categories:\", mc4.mean(), mc4.std())"
   ]
  },
  {
   "cell_type": "markdown",
   "metadata": {},
   "source": [
    "## NaiveBayes"
   ]
  },
  {
   "cell_type": "code",
   "execution_count": 119,
   "metadata": {
    "collapsed": false
   },
   "outputs": [
    {
     "name": "stdout",
     "output_type": "stream",
     "text": [
      "Train accuracy: 0.37653251795424686\n",
      "Test accuracy: 0.2104984093319194\n",
      "Categorical accuracy: 0.6659000530222694\n"
     ]
    }
   ],
   "source": [
    "clf = MultinomialNB(alpha=0.4, fit_prior=False)\n",
    "clf.fit(X_train, y_train)\n",
    "\n",
    "yp_train = clf.predict(X_train)\n",
    "print(\"Train accuracy:\", np.mean(yp_train == y_train))\n",
    "\n",
    "yp_test = clf.predict(X_test)\n",
    "print(\"Test accuracy:\", np.mean(yp_test == y_test))\n",
    "\n",
    "print(\"Categorical accuracy:\", cat_accuracy(yp_test, y_test, le))"
   ]
  },
  {
   "cell_type": "code",
   "execution_count": 275,
   "metadata": {
    "collapsed": false
   },
   "outputs": [],
   "source": [
    "# #Most Frequent words across personality Types\n",
    "# feature_names = vect.get_feature_names()\n",
    "# maxC = 250\n",
    "\n",
    "# print (len(feature_names))\n",
    "# mfw = set()\n",
    "# for i, cls in enumerate(clf.feature_log_prob_):\n",
    "#     print(\"PT:\", le.inverse_transform(i), len(cls))\n",
    "#     tdf = pd.DataFrame({\"word\":feature_names, \"freq\":cls})\n",
    "#     tdf.sort_values(\"freq\", ascending=False, inplace=True)\n",
    "#     tdf= tdf.reset_index()\n",
    "#     if len(mfw) == 0:\n",
    "#         mfw = set(tdf[0:maxC][\"word\"])\n",
    "#     else:\n",
    "#         mfw = mfw.intersection(set(tdf[0:maxC][\"word\"]))\n",
    "#     print(tdf[0:][[\"freq\", \"word\"]].head(20))\n",
    "# print(len(mfw))"
   ]
  },
  {
   "cell_type": "code",
   "execution_count": 276,
   "metadata": {
    "collapsed": false
   },
   "outputs": [],
   "source": [
    "# for i, cls in enumerate(clf.feature_log_prob_):\n",
    "#     print(\"PT:\", le.inverse_transform(i), len(cls))\n",
    "#     tdf = pd.DataFrame({\"word\":feature_names, \"freq\":cls})\n",
    "#     tdf.sort_values(\"freq\", ascending=False, inplace=True)\n",
    "#     tdf= tdf.reset_index()\n",
    "#     tdf = tdf[tdf.word.apply(lambda x: not(x in mfw))]\n",
    "#     print(tdf[0:][[\"freq\", \"word\"]].head(20))"
   ]
  },
  {
   "cell_type": "code",
   "execution_count": 27,
   "metadata": {
    "collapsed": false
   },
   "outputs": [
    {
     "name": "stderr",
     "output_type": "stream",
     "text": [
      "/home/brunno/anaconda2/envs/ana41py35/lib/python3.5/site-packages/sklearn/linear_model/stochastic_gradient.py:128: FutureWarning: max_iter and tol parameters have been added in <class 'sklearn.linear_model.stochastic_gradient.SGDClassifier'> in 0.19. If both are left unset, they default to max_iter=5 and tol=None. If tol is not None, max_iter defaults to max_iter=1000. From 0.21, default max_iter will be 1000, and default tol will be 1e-3.\n",
      "  \"and default tol will be 1e-3.\" % type(self), FutureWarning)\n"
     ]
    },
    {
     "name": "stdout",
     "output_type": "stream",
     "text": [
      "Train accuracy: 0.9200717304982707\n",
      "Test accuracy: 0.32142857142857145\n",
      "Categorical accuracy: 0.7350230414746544\n"
     ]
    }
   ],
   "source": [
    "clf = SGDClassifier(alpha=0.01)\n",
    "clf.fit(X_train, y_train)\n",
    "\n",
    "yp_train = clf.predict(X_train)\n",
    "print(\"Train accuracy:\", np.mean(yp_train == y_train))\n",
    "\n",
    "yp_test = clf.predict(X_test)\n",
    "print(\"Test accuracy:\", np.mean(yp_test == y_test))\n",
    "\n",
    "print(\"Categorical accuracy:\", cat_accuracy(yp_test, y_test, le))"
   ]
  },
  {
   "cell_type": "markdown",
   "metadata": {},
   "source": [
    "## Plot Predictions"
   ]
  },
  {
   "cell_type": "code",
   "execution_count": 120,
   "metadata": {
    "collapsed": false
   },
   "outputs": [],
   "source": [
    "dft = pd.DataFrame(le.inverse_transform(yp_test),columns=[\"pred\"])\n",
    "dft[\"cnt\"] =  1\n",
    "dft[\"same\"] = (yp_test == y_test)\n",
    "dft[\"same\"] = dft[\"same\"].astype(int)\n",
    "\n",
    "groupsn = dft.groupby(\"pred\").sum()\n",
    "groupsn.sort_values(\"cnt\", ascending=False, inplace=True)"
   ]
  },
  {
   "cell_type": "code",
   "execution_count": 121,
   "metadata": {
    "collapsed": false
   },
   "outputs": [
    {
     "data": {
      "image/png": "[encoded data removed]",
      "text/plain": [
       "<matplotlib.figure.Figure at 0x7ffaffb1b240>"
      ]
     },
     "metadata": {},
     "output_type": "display_data"
    }
   ],
   "source": [
    "f, ax = plt.subplots(1,2,figsize=(2*PW,PH))\n",
    "groupsn[\"cnt\"].plot(kind=\"bar\", title=\"Number of People per PT - All test\", ax=ax[0]);\n",
    "groupsn[\"same\"].plot(kind=\"bar\", title=\"Number of People per Personality - Correctly Classified\", ax=ax[1]);\n",
    "#groups[\"posts\"].plot(kind=\"bar\", title=\"Number of People per Personality type\", ax=ax[2]);"
   ]
  },
  {
   "cell_type": "markdown",
   "metadata": {},
   "source": [
    "## Count Analysis"
   ]
  },
  {
   "cell_type": "code",
   "execution_count": 122,
   "metadata": {
    "collapsed": false
   },
   "outputs": [
    {
     "data": {
      "image/png": "[encoded data removed]",
      "text/plain": [
       "<matplotlib.figure.Figure at 0x7ffb2ccf3908>"
      ]
     },
     "metadata": {},
     "output_type": "display_data"
    }
   ],
   "source": [
    "wdf = pd.DataFrame( vect.get_feature_names(),columns=[\"word\"])\n",
    "wdf[\"len\"] = wdf.word.apply(len)\n",
    "sns.distplot(wdf[\"len\"], kde=False);"
   ]
  },
  {
   "cell_type": "code",
   "execution_count": null,
   "metadata": {
    "collapsed": true
   },
   "outputs": [],
   "source": []
  }
 ],
 "metadata": {
  "anaconda-cloud": {},
  "kernelspec": {
   "display_name": "Python [conda env:ana41py35]",
   "language": "python",
   "name": "conda-env-ana41py35-py"
  },
  "language_info": {
   "codemirror_mode": {
    "name": "ipython",
    "version": 3
   },
   "file_extension": ".py",
   "mimetype": "text/x-python",
   "name": "python",
   "nbconvert_exporter": "python",
   "pygments_lexer": "ipython3",
   "version": "3.5.4"
  }
 },
 "nbformat": 4,
 "nbformat_minor": 1
}
